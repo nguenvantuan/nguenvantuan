{
 "cells": [
  {
   "cell_type": "markdown",
   "metadata": {},
   "source": [
    "### Stock Market Prediction And Forecasting Using Stacked LSTM"
   ]
  },
  {
   "cell_type": "code",
   "execution_count": 1,
   "metadata": {},
   "outputs": [],
   "source": [
    "import pandas as pd"
   ]
  },
  {
   "cell_type": "code",
   "execution_count": 2,
   "metadata": {},
   "outputs": [],
   "source": [
    "df=pd.read_csv('AAPL.csv')"
   ]
  },
  {
   "cell_type": "code",
   "execution_count": 3,
   "metadata": {},
   "outputs": [
    {
     "data": {
      "text/html": [
       "<div>\n",
       "<style scoped>\n",
       "    .dataframe tbody tr th:only-of-type {\n",
       "        vertical-align: middle;\n",
       "    }\n",
       "\n",
       "    .dataframe tbody tr th {\n",
       "        vertical-align: top;\n",
       "    }\n",
       "\n",
       "    .dataframe thead th {\n",
       "        text-align: right;\n",
       "    }\n",
       "</style>\n",
       "<table border=\"1\" class=\"dataframe\">\n",
       "  <thead>\n",
       "    <tr style=\"text-align: right;\">\n",
       "      <th></th>\n",
       "      <th>Unnamed: 0</th>\n",
       "      <th>symbol</th>\n",
       "      <th>date</th>\n",
       "      <th>close</th>\n",
       "      <th>high</th>\n",
       "      <th>low</th>\n",
       "      <th>open</th>\n",
       "      <th>volume</th>\n",
       "      <th>adjClose</th>\n",
       "      <th>adjHigh</th>\n",
       "      <th>adjLow</th>\n",
       "      <th>adjOpen</th>\n",
       "      <th>adjVolume</th>\n",
       "      <th>divCash</th>\n",
       "      <th>splitFactor</th>\n",
       "    </tr>\n",
       "  </thead>\n",
       "  <tbody>\n",
       "    <tr>\n",
       "      <th>0</th>\n",
       "      <td>0</td>\n",
       "      <td>AAPL</td>\n",
       "      <td>2015-05-27 00:00:00+00:00</td>\n",
       "      <td>132.045</td>\n",
       "      <td>132.260</td>\n",
       "      <td>130.05</td>\n",
       "      <td>130.34</td>\n",
       "      <td>45833246</td>\n",
       "      <td>121.682558</td>\n",
       "      <td>121.880685</td>\n",
       "      <td>119.844118</td>\n",
       "      <td>120.111360</td>\n",
       "      <td>45833246</td>\n",
       "      <td>0.0</td>\n",
       "      <td>1.0</td>\n",
       "    </tr>\n",
       "    <tr>\n",
       "      <th>1</th>\n",
       "      <td>1</td>\n",
       "      <td>AAPL</td>\n",
       "      <td>2015-05-28 00:00:00+00:00</td>\n",
       "      <td>131.780</td>\n",
       "      <td>131.950</td>\n",
       "      <td>131.10</td>\n",
       "      <td>131.86</td>\n",
       "      <td>30733309</td>\n",
       "      <td>121.438354</td>\n",
       "      <td>121.595013</td>\n",
       "      <td>120.811718</td>\n",
       "      <td>121.512076</td>\n",
       "      <td>30733309</td>\n",
       "      <td>0.0</td>\n",
       "      <td>1.0</td>\n",
       "    </tr>\n",
       "    <tr>\n",
       "      <th>2</th>\n",
       "      <td>2</td>\n",
       "      <td>AAPL</td>\n",
       "      <td>2015-05-29 00:00:00+00:00</td>\n",
       "      <td>130.280</td>\n",
       "      <td>131.450</td>\n",
       "      <td>129.90</td>\n",
       "      <td>131.23</td>\n",
       "      <td>50884452</td>\n",
       "      <td>120.056069</td>\n",
       "      <td>121.134251</td>\n",
       "      <td>119.705890</td>\n",
       "      <td>120.931516</td>\n",
       "      <td>50884452</td>\n",
       "      <td>0.0</td>\n",
       "      <td>1.0</td>\n",
       "    </tr>\n",
       "    <tr>\n",
       "      <th>3</th>\n",
       "      <td>3</td>\n",
       "      <td>AAPL</td>\n",
       "      <td>2015-06-01 00:00:00+00:00</td>\n",
       "      <td>130.535</td>\n",
       "      <td>131.390</td>\n",
       "      <td>130.05</td>\n",
       "      <td>131.20</td>\n",
       "      <td>32112797</td>\n",
       "      <td>120.291057</td>\n",
       "      <td>121.078960</td>\n",
       "      <td>119.844118</td>\n",
       "      <td>120.903870</td>\n",
       "      <td>32112797</td>\n",
       "      <td>0.0</td>\n",
       "      <td>1.0</td>\n",
       "    </tr>\n",
       "    <tr>\n",
       "      <th>4</th>\n",
       "      <td>4</td>\n",
       "      <td>AAPL</td>\n",
       "      <td>2015-06-02 00:00:00+00:00</td>\n",
       "      <td>129.960</td>\n",
       "      <td>130.655</td>\n",
       "      <td>129.32</td>\n",
       "      <td>129.86</td>\n",
       "      <td>33667627</td>\n",
       "      <td>119.761181</td>\n",
       "      <td>120.401640</td>\n",
       "      <td>119.171406</td>\n",
       "      <td>119.669029</td>\n",
       "      <td>33667627</td>\n",
       "      <td>0.0</td>\n",
       "      <td>1.0</td>\n",
       "    </tr>\n",
       "  </tbody>\n",
       "</table>\n",
       "</div>"
      ],
      "text/plain": [
       "   Unnamed: 0 symbol                       date    close     high     low  \\\n",
       "0           0   AAPL  2015-05-27 00:00:00+00:00  132.045  132.260  130.05   \n",
       "1           1   AAPL  2015-05-28 00:00:00+00:00  131.780  131.950  131.10   \n",
       "2           2   AAPL  2015-05-29 00:00:00+00:00  130.280  131.450  129.90   \n",
       "3           3   AAPL  2015-06-01 00:00:00+00:00  130.535  131.390  130.05   \n",
       "4           4   AAPL  2015-06-02 00:00:00+00:00  129.960  130.655  129.32   \n",
       "\n",
       "     open    volume    adjClose     adjHigh      adjLow     adjOpen  \\\n",
       "0  130.34  45833246  121.682558  121.880685  119.844118  120.111360   \n",
       "1  131.86  30733309  121.438354  121.595013  120.811718  121.512076   \n",
       "2  131.23  50884452  120.056069  121.134251  119.705890  120.931516   \n",
       "3  131.20  32112797  120.291057  121.078960  119.844118  120.903870   \n",
       "4  129.86  33667627  119.761181  120.401640  119.171406  119.669029   \n",
       "\n",
       "   adjVolume  divCash  splitFactor  \n",
       "0   45833246      0.0          1.0  \n",
       "1   30733309      0.0          1.0  \n",
       "2   50884452      0.0          1.0  \n",
       "3   32112797      0.0          1.0  \n",
       "4   33667627      0.0          1.0  "
      ]
     },
     "execution_count": 3,
     "metadata": {},
     "output_type": "execute_result"
    }
   ],
   "source": [
    "df.head()"
   ]
  },
  {
   "cell_type": "code",
   "execution_count": 4,
   "metadata": {},
   "outputs": [
    {
     "data": {
      "text/html": [
       "<div>\n",
       "<style scoped>\n",
       "    .dataframe tbody tr th:only-of-type {\n",
       "        vertical-align: middle;\n",
       "    }\n",
       "\n",
       "    .dataframe tbody tr th {\n",
       "        vertical-align: top;\n",
       "    }\n",
       "\n",
       "    .dataframe thead th {\n",
       "        text-align: right;\n",
       "    }\n",
       "</style>\n",
       "<table border=\"1\" class=\"dataframe\">\n",
       "  <thead>\n",
       "    <tr style=\"text-align: right;\">\n",
       "      <th></th>\n",
       "      <th>Unnamed: 0</th>\n",
       "      <th>symbol</th>\n",
       "      <th>date</th>\n",
       "      <th>close</th>\n",
       "      <th>high</th>\n",
       "      <th>low</th>\n",
       "      <th>open</th>\n",
       "      <th>volume</th>\n",
       "      <th>adjClose</th>\n",
       "      <th>adjHigh</th>\n",
       "      <th>adjLow</th>\n",
       "      <th>adjOpen</th>\n",
       "      <th>adjVolume</th>\n",
       "      <th>divCash</th>\n",
       "      <th>splitFactor</th>\n",
       "    </tr>\n",
       "  </thead>\n",
       "  <tbody>\n",
       "    <tr>\n",
       "      <th>1253</th>\n",
       "      <td>1253</td>\n",
       "      <td>AAPL</td>\n",
       "      <td>2020-05-18 00:00:00+00:00</td>\n",
       "      <td>314.96</td>\n",
       "      <td>316.50</td>\n",
       "      <td>310.3241</td>\n",
       "      <td>313.17</td>\n",
       "      <td>33843125</td>\n",
       "      <td>314.96</td>\n",
       "      <td>316.50</td>\n",
       "      <td>310.3241</td>\n",
       "      <td>313.17</td>\n",
       "      <td>33843125</td>\n",
       "      <td>0.0</td>\n",
       "      <td>1.0</td>\n",
       "    </tr>\n",
       "    <tr>\n",
       "      <th>1254</th>\n",
       "      <td>1254</td>\n",
       "      <td>AAPL</td>\n",
       "      <td>2020-05-19 00:00:00+00:00</td>\n",
       "      <td>313.14</td>\n",
       "      <td>318.52</td>\n",
       "      <td>313.0100</td>\n",
       "      <td>315.03</td>\n",
       "      <td>25432385</td>\n",
       "      <td>313.14</td>\n",
       "      <td>318.52</td>\n",
       "      <td>313.0100</td>\n",
       "      <td>315.03</td>\n",
       "      <td>25432385</td>\n",
       "      <td>0.0</td>\n",
       "      <td>1.0</td>\n",
       "    </tr>\n",
       "    <tr>\n",
       "      <th>1255</th>\n",
       "      <td>1255</td>\n",
       "      <td>AAPL</td>\n",
       "      <td>2020-05-20 00:00:00+00:00</td>\n",
       "      <td>319.23</td>\n",
       "      <td>319.52</td>\n",
       "      <td>316.2000</td>\n",
       "      <td>316.68</td>\n",
       "      <td>27876215</td>\n",
       "      <td>319.23</td>\n",
       "      <td>319.52</td>\n",
       "      <td>316.2000</td>\n",
       "      <td>316.68</td>\n",
       "      <td>27876215</td>\n",
       "      <td>0.0</td>\n",
       "      <td>1.0</td>\n",
       "    </tr>\n",
       "    <tr>\n",
       "      <th>1256</th>\n",
       "      <td>1256</td>\n",
       "      <td>AAPL</td>\n",
       "      <td>2020-05-21 00:00:00+00:00</td>\n",
       "      <td>316.85</td>\n",
       "      <td>320.89</td>\n",
       "      <td>315.8700</td>\n",
       "      <td>318.66</td>\n",
       "      <td>25672211</td>\n",
       "      <td>316.85</td>\n",
       "      <td>320.89</td>\n",
       "      <td>315.8700</td>\n",
       "      <td>318.66</td>\n",
       "      <td>25672211</td>\n",
       "      <td>0.0</td>\n",
       "      <td>1.0</td>\n",
       "    </tr>\n",
       "    <tr>\n",
       "      <th>1257</th>\n",
       "      <td>1257</td>\n",
       "      <td>AAPL</td>\n",
       "      <td>2020-05-22 00:00:00+00:00</td>\n",
       "      <td>318.89</td>\n",
       "      <td>319.23</td>\n",
       "      <td>315.3500</td>\n",
       "      <td>315.77</td>\n",
       "      <td>20450754</td>\n",
       "      <td>318.89</td>\n",
       "      <td>319.23</td>\n",
       "      <td>315.3500</td>\n",
       "      <td>315.77</td>\n",
       "      <td>20450754</td>\n",
       "      <td>0.0</td>\n",
       "      <td>1.0</td>\n",
       "    </tr>\n",
       "  </tbody>\n",
       "</table>\n",
       "</div>"
      ],
      "text/plain": [
       "      Unnamed: 0 symbol                       date   close    high       low  \\\n",
       "1253        1253   AAPL  2020-05-18 00:00:00+00:00  314.96  316.50  310.3241   \n",
       "1254        1254   AAPL  2020-05-19 00:00:00+00:00  313.14  318.52  313.0100   \n",
       "1255        1255   AAPL  2020-05-20 00:00:00+00:00  319.23  319.52  316.2000   \n",
       "1256        1256   AAPL  2020-05-21 00:00:00+00:00  316.85  320.89  315.8700   \n",
       "1257        1257   AAPL  2020-05-22 00:00:00+00:00  318.89  319.23  315.3500   \n",
       "\n",
       "        open    volume  adjClose  adjHigh    adjLow  adjOpen  adjVolume  \\\n",
       "1253  313.17  33843125    314.96   316.50  310.3241   313.17   33843125   \n",
       "1254  315.03  25432385    313.14   318.52  313.0100   315.03   25432385   \n",
       "1255  316.68  27876215    319.23   319.52  316.2000   316.68   27876215   \n",
       "1256  318.66  25672211    316.85   320.89  315.8700   318.66   25672211   \n",
       "1257  315.77  20450754    318.89   319.23  315.3500   315.77   20450754   \n",
       "\n",
       "      divCash  splitFactor  \n",
       "1253      0.0          1.0  \n",
       "1254      0.0          1.0  \n",
       "1255      0.0          1.0  \n",
       "1256      0.0          1.0  \n",
       "1257      0.0          1.0  "
      ]
     },
     "execution_count": 4,
     "metadata": {},
     "output_type": "execute_result"
    }
   ],
   "source": [
    "df.tail()"
   ]
  },
  {
   "cell_type": "code",
   "execution_count": 25,
   "metadata": {},
   "outputs": [],
   "source": [
    "df1=df['close']"
   ]
  },
  {
   "cell_type": "code",
   "execution_count": 26,
   "metadata": {},
   "outputs": [
    {
     "data": {
      "text/plain": [
       "0       132.045\n",
       "1       131.780\n",
       "2       130.280\n",
       "3       130.535\n",
       "4       129.960\n",
       "         ...   \n",
       "1253    314.960\n",
       "1254    313.140\n",
       "1255    319.230\n",
       "1256    316.850\n",
       "1257    318.890\n",
       "Name: close, Length: 1258, dtype: float64"
      ]
     },
     "execution_count": 26,
     "metadata": {},
     "output_type": "execute_result"
    }
   ],
   "source": [
    "df1"
   ]
  },
  {
   "cell_type": "code",
   "execution_count": 12,
   "metadata": {},
   "outputs": [
    {
     "data": {
      "text/plain": [
       "Text(0, 0.5, 'price')"
      ]
     },
     "execution_count": 12,
     "metadata": {},
     "output_type": "execute_result"
    },
    {
     "data": {
      "image/png": "[encoded data removed]",
      "text/plain": [
       "<Figure size 432x288 with 1 Axes>"
      ]
     },
     "metadata": {
      "needs_background": "light"
     },
     "output_type": "display_data"
    }
   ],
   "source": [
    "import matplotlib.pyplot as plt\n",
    "plt.plot(df1)\n",
    "plt.xlabel('day')\n",
    "plt.ylabel('price')"
   ]
  },
  {
   "cell_type": "code",
   "execution_count": 18,
   "metadata": {},
   "outputs": [],
   "source": [
    "import seaborn as sns"
   ]
  },
  {
   "cell_type": "code",
   "execution_count": 19,
   "metadata": {},
   "outputs": [
    {
     "data": {
      "text/plain": [
       "<AxesSubplot:xlabel='close', ylabel='Density'>"
      ]
     },
     "execution_count": 19,
     "metadata": {},
     "output_type": "execute_result"
    },
    {
     "data": {
      "image/png": "[encoded data removed]",
      "text/plain": [
       "<Figure size 432x288 with 1 Axes>"
      ]
     },
     "metadata": {
      "needs_background": "light"
     },
     "output_type": "display_data"
    }
   ],
   "source": [
    "sns.kdeplot(df1)"
   ]
  },
  {
   "cell_type": "code",
   "execution_count": 21,
   "metadata": {},
   "outputs": [],
   "source": [
    "from sklearn.preprocessing import MinMaxScaler"
   ]
  },
  {
   "cell_type": "code",
   "execution_count": 28,
   "metadata": {},
   "outputs": [
    {
     "data": {
      "text/plain": [
       "array([[132.045],\n",
       "       [131.78 ],\n",
       "       [130.28 ],\n",
       "       ...,\n",
       "       [319.23 ],\n",
       "       [316.85 ],\n",
       "       [318.89 ]])"
      ]
     },
     "execution_count": 28,
     "metadata": {},
     "output_type": "execute_result"
    }
   ],
   "source": [
    "df1.values.reshape(-1,1)"
   ]
  },
  {
   "cell_type": "code",
   "execution_count": 29,
   "metadata": {},
   "outputs": [],
   "source": [
    "scaler=MinMaxScaler(feature_range=(0,1))\n",
    "df1=scaler.fit_transform(df1.values.reshape(-1,1))"
   ]
  },
  {
   "cell_type": "code",
   "execution_count": 30,
   "metadata": {},
   "outputs": [
    {
     "name": "stdout",
     "output_type": "stream",
     "text": [
      "[[0.17607447]\n",
      " [0.17495567]\n",
      " [0.16862282]\n",
      " ...\n",
      " [0.96635143]\n",
      " [0.9563033 ]\n",
      " [0.96491598]]\n"
     ]
    }
   ],
   "source": [
    "print(df1)"
   ]
  },
  {
   "cell_type": "code",
   "execution_count": 65,
   "metadata": {},
   "outputs": [],
   "source": [
    "training_size=int(len(df1)*0.65)\n",
    "test_size=len(df1)-training_size\n",
    "train_data=df1[0:training_size,:]\n",
    "test_data=df1[training_size:len(df1),:]"
   ]
  },
  {
   "cell_type": "code",
   "execution_count": 66,
   "metadata": {},
   "outputs": [
    {
     "data": {
      "text/plain": [
       "(817, 441)"
      ]
     },
     "execution_count": 66,
     "metadata": {},
     "output_type": "execute_result"
    }
   ],
   "source": [
    "training_size,test_size"
   ]
  },
  {
   "cell_type": "code",
   "execution_count": 35,
   "metadata": {},
   "outputs": [],
   "source": [
    "import numpy as np"
   ]
  },
  {
   "cell_type": "code",
   "execution_count": 67,
   "metadata": {},
   "outputs": [],
   "source": [
    "def create_dataset(dataset, time_step=1):\n",
    "    data, target = [], []\n",
    "    for i in range(len(dataset)-time_step):\n",
    "        a = dataset[i:(i+time_step), 0]\n",
    "        data.append(a)\n",
    "        target.append(dataset[i + time_step, 0])\n",
    "    return np.array(data), np.array(target)"
   ]
  },
  {
   "cell_type": "code",
   "execution_count": 68,
   "metadata": {},
   "outputs": [],
   "source": [
    "time_step = 100\n",
    "X_train, y_train = create_dataset(train_data, time_step)\n",
    "X_test, y_test = create_dataset(test_data, time_step)"
   ]
  },
  {
   "cell_type": "code",
   "execution_count": 69,
   "metadata": {},
   "outputs": [
    {
     "data": {
      "text/plain": [
       "((717, 100), (717,))"
      ]
     },
     "execution_count": 69,
     "metadata": {},
     "output_type": "execute_result"
    }
   ],
   "source": [
    "X_train.shape, y_train.shape"
   ]
  },
  {
   "cell_type": "code",
   "execution_count": 70,
   "metadata": {},
   "outputs": [
    {
     "data": {
      "text/plain": [
       "((341, 100), (341,))"
      ]
     },
     "execution_count": 70,
     "metadata": {},
     "output_type": "execute_result"
    }
   ],
   "source": [
    "X_test.shape, y_test.shape"
   ]
  },
  {
   "cell_type": "code",
   "execution_count": 73,
   "metadata": {},
   "outputs": [],
   "source": [
    "X_train =X_train.reshape(X_train.shape[0],X_train.shape[1] , 1)\n",
    "X_test = X_test.reshape(X_test.shape[0],X_test.shape[1] , 1)"
   ]
  },
  {
   "cell_type": "code",
   "execution_count": 60,
   "metadata": {},
   "outputs": [],
   "source": [
    "from keras.models import Sequential\n",
    "from keras.layers import Dense\n",
    "from keras.layers import LSTM"
   ]
  },
  {
   "cell_type": "code",
   "execution_count": 61,
   "metadata": {},
   "outputs": [],
   "source": [
    "model=Sequential()\n",
    "model.add(LSTM(50,return_sequences=True,input_shape=(None,1)))\n",
    "model.add(LSTM(50,return_sequences=True))\n",
    "model.add(LSTM(50))\n",
    "model.add(Dense(1))\n",
    "model.compile(loss='mean_squared_error',optimizer='adam')"
   ]
  },
  {
   "cell_type": "code",
   "execution_count": 72,
   "metadata": {},
   "outputs": [
    {
     "name": "stdout",
     "output_type": "stream",
     "text": [
      "Model: \"sequential\"\n",
      "_________________________________________________________________\n",
      " Layer (type)                Output Shape              Param #   \n",
      "=================================================================\n",
      " lstm (LSTM)                 (None, None, 50)          10400     \n",
      "                                                                 \n",
      " lstm_1 (LSTM)               (None, None, 50)          20200     \n",
      "                                                                 \n",
      " lstm_2 (LSTM)               (None, 50)                20200     \n",
      "                                                                 \n",
      " dense (Dense)               (None, 1)                 51        \n",
      "                                                                 \n",
      "=================================================================\n",
      "Total params: 50,851\n",
      "Trainable params: 50,851\n",
      "Non-trainable params: 0\n",
      "_________________________________________________________________\n"
     ]
    }
   ],
   "source": [
    "model.summary()"
   ]
  },
  {
   "cell_type": "code",
   "execution_count": 75,
   "metadata": {},
   "outputs": [
    {
     "name": "stdout",
     "output_type": "stream",
     "text": [
      "Epoch 1/100\n",
      "12/12 [==============================] - 3s 227ms/step - loss: 8.8291e-04 - val_loss: 0.0040\n",
      "Epoch 2/100\n",
      "12/12 [==============================] - 0s 41ms/step - loss: 7.7715e-04 - val_loss: 0.0045\n",
      "Epoch 3/100\n",
      "12/12 [==============================] - 0s 40ms/step - loss: 7.4438e-04 - val_loss: 0.0039\n",
      "Epoch 4/100\n",
      "12/12 [==============================] - 0s 40ms/step - loss: 6.8943e-04 - val_loss: 0.0038\n",
      "Epoch 5/100\n",
      "12/12 [==============================] - 0s 39ms/step - loss: 6.5685e-04 - val_loss: 0.0038\n",
      "Epoch 6/100\n",
      "12/12 [==============================] - 0s 39ms/step - loss: 6.0142e-04 - val_loss: 0.0037\n",
      "Epoch 7/100\n",
      "12/12 [==============================] - 0s 39ms/step - loss: 5.9721e-04 - val_loss: 0.0038\n",
      "Epoch 8/100\n",
      "12/12 [==============================] - 0s 39ms/step - loss: 5.8682e-04 - val_loss: 0.0042\n",
      "Epoch 9/100\n",
      "12/12 [==============================] - 2s 143ms/step - loss: 5.9355e-04 - val_loss: 0.0035\n",
      "Epoch 10/100\n",
      "12/12 [==============================] - 2s 148ms/step - loss: 6.0986e-04 - val_loss: 0.0035\n",
      "Epoch 11/100\n",
      "12/12 [==============================] - 1s 62ms/step - loss: 6.2022e-04 - val_loss: 0.0033\n",
      "Epoch 12/100\n",
      "12/12 [==============================] - 1s 84ms/step - loss: 5.8022e-04 - val_loss: 0.0041\n",
      "Epoch 13/100\n",
      "12/12 [==============================] - 2s 148ms/step - loss: 5.9707e-04 - val_loss: 0.0033\n",
      "Epoch 14/100\n",
      "12/12 [==============================] - 1s 96ms/step - loss: 5.4055e-04 - val_loss: 0.0030\n",
      "Epoch 15/100\n",
      "12/12 [==============================] - 1s 111ms/step - loss: 5.1342e-04 - val_loss: 0.0031\n",
      "Epoch 16/100\n",
      "12/12 [==============================] - 2s 147ms/step - loss: 5.8435e-04 - val_loss: 0.0028\n",
      "Epoch 17/100\n",
      "12/12 [==============================] - 2s 147ms/step - loss: 5.1012e-04 - val_loss: 0.0027\n",
      "Epoch 18/100\n",
      "12/12 [==============================] - 2s 152ms/step - loss: 4.9470e-04 - val_loss: 0.0025\n",
      "Epoch 19/100\n",
      "12/12 [==============================] - 1s 54ms/step - loss: 4.8765e-04 - val_loss: 0.0027\n",
      "Epoch 20/100\n",
      "12/12 [==============================] - 1s 44ms/step - loss: 4.9090e-04 - val_loss: 0.0024\n",
      "Epoch 21/100\n",
      "12/12 [==============================] - 1s 98ms/step - loss: 4.7118e-04 - val_loss: 0.0023\n",
      "Epoch 22/100\n",
      "12/12 [==============================] - 2s 141ms/step - loss: 4.5491e-04 - val_loss: 0.0022\n",
      "Epoch 23/100\n",
      "12/12 [==============================] - 1s 85ms/step - loss: 4.8269e-04 - val_loss: 0.0021\n",
      "Epoch 24/100\n",
      "12/12 [==============================] - 1s 54ms/step - loss: 4.7152e-04 - val_loss: 0.0021\n",
      "Epoch 25/100\n",
      "12/12 [==============================] - 0s 40ms/step - loss: 4.3402e-04 - val_loss: 0.0021\n",
      "Epoch 26/100\n",
      "12/12 [==============================] - 1s 87ms/step - loss: 4.3195e-04 - val_loss: 0.0019\n",
      "Epoch 27/100\n",
      "12/12 [==============================] - 2s 145ms/step - loss: 3.9678e-04 - val_loss: 0.0025\n",
      "Epoch 28/100\n",
      "12/12 [==============================] - 1s 94ms/step - loss: 4.0750e-04 - val_loss: 0.0027\n",
      "Epoch 29/100\n",
      "12/12 [==============================] - 1s 62ms/step - loss: 4.1501e-04 - val_loss: 0.0017\n",
      "Epoch 30/100\n",
      "12/12 [==============================] - 2s 152ms/step - loss: 3.7724e-04 - val_loss: 0.0022\n",
      "Epoch 31/100\n",
      "12/12 [==============================] - 1s 119ms/step - loss: 4.0076e-04 - val_loss: 0.0017\n",
      "Epoch 32/100\n",
      "12/12 [==============================] - 1s 55ms/step - loss: 3.7079e-04 - val_loss: 0.0017\n",
      "Epoch 33/100\n",
      "12/12 [==============================] - 1s 64ms/step - loss: 3.6573e-04 - val_loss: 0.0018\n",
      "Epoch 34/100\n",
      "12/12 [==============================] - 2s 185ms/step - loss: 3.6499e-04 - val_loss: 0.0023\n",
      "Epoch 35/100\n",
      "12/12 [==============================] - 1s 84ms/step - loss: 4.3245e-04 - val_loss: 0.0018\n",
      "Epoch 36/100\n",
      "12/12 [==============================] - 1s 52ms/step - loss: 4.3623e-04 - val_loss: 0.0016\n",
      "Epoch 37/100\n",
      "12/12 [==============================] - 2s 162ms/step - loss: 3.3005e-04 - val_loss: 0.0014\n",
      "Epoch 38/100\n",
      "12/12 [==============================] - 2s 131ms/step - loss: 3.2347e-04 - val_loss: 0.0017\n",
      "Epoch 39/100\n",
      "12/12 [==============================] - 1s 64ms/step - loss: 3.3542e-04 - val_loss: 0.0014\n",
      "Epoch 40/100\n",
      "12/12 [==============================] - 1s 113ms/step - loss: 3.2687e-04 - val_loss: 0.0013\n",
      "Epoch 41/100\n",
      "12/12 [==============================] - 2s 158ms/step - loss: 3.1066e-04 - val_loss: 0.0014\n",
      "Epoch 42/100\n",
      "12/12 [==============================] - 1s 70ms/step - loss: 3.0711e-04 - val_loss: 0.0015\n",
      "Epoch 43/100\n",
      "12/12 [==============================] - 2s 136ms/step - loss: 3.1678e-04 - val_loss: 0.0016\n",
      "Epoch 44/100\n",
      "12/12 [==============================] - 2s 140ms/step - loss: 4.0950e-04 - val_loss: 0.0028\n",
      "Epoch 45/100\n",
      "12/12 [==============================] - 1s 62ms/step - loss: 4.1076e-04 - val_loss: 0.0015\n",
      "Epoch 46/100\n",
      "12/12 [==============================] - 1s 120ms/step - loss: 3.6435e-04 - val_loss: 0.0013\n",
      "Epoch 47/100\n",
      "12/12 [==============================] - 2s 154ms/step - loss: 2.9115e-04 - val_loss: 0.0014\n",
      "Epoch 48/100\n",
      "12/12 [==============================] - 1s 60ms/step - loss: 2.7149e-04 - val_loss: 0.0013\n",
      "Epoch 49/100\n",
      "12/12 [==============================] - 1s 100ms/step - loss: 2.6739e-04 - val_loss: 0.0013\n",
      "Epoch 50/100\n",
      "12/12 [==============================] - 2s 199ms/step - loss: 2.7520e-04 - val_loss: 0.0020\n",
      "Epoch 51/100\n",
      "12/12 [==============================] - 1s 102ms/step - loss: 2.9933e-04 - val_loss: 0.0015\n",
      "Epoch 52/100\n",
      "12/12 [==============================] - 2s 169ms/step - loss: 4.1736e-04 - val_loss: 0.0034\n",
      "Epoch 53/100\n",
      "12/12 [==============================] - 1s 90ms/step - loss: 3.0196e-04 - val_loss: 0.0015\n",
      "Epoch 54/100\n",
      "12/12 [==============================] - 1s 42ms/step - loss: 2.4283e-04 - val_loss: 0.0013\n",
      "Epoch 55/100\n",
      "12/12 [==============================] - 0s 41ms/step - loss: 2.3677e-04 - val_loss: 0.0013\n",
      "Epoch 56/100\n",
      "12/12 [==============================] - 0s 40ms/step - loss: 2.2997e-04 - val_loss: 0.0014\n",
      "Epoch 57/100\n",
      "12/12 [==============================] - 1s 43ms/step - loss: 2.3597e-04 - val_loss: 0.0012\n",
      "Epoch 58/100\n",
      "12/12 [==============================] - 2s 147ms/step - loss: 2.2766e-04 - val_loss: 0.0017\n",
      "Epoch 59/100\n",
      "12/12 [==============================] - 2s 135ms/step - loss: 2.6881e-04 - val_loss: 0.0012\n",
      "Epoch 60/100\n",
      "12/12 [==============================] - 1s 65ms/step - loss: 2.1618e-04 - val_loss: 0.0013\n",
      "Epoch 61/100\n",
      "12/12 [==============================] - 2s 135ms/step - loss: 2.0754e-04 - val_loss: 0.0013\n",
      "Epoch 62/100\n",
      "12/12 [==============================] - 2s 166ms/step - loss: 2.3418e-04 - val_loss: 0.0020\n",
      "Epoch 63/100\n",
      "12/12 [==============================] - 1s 63ms/step - loss: 2.4932e-04 - val_loss: 0.0014\n",
      "Epoch 64/100\n",
      "12/12 [==============================] - 2s 217ms/step - loss: 2.2715e-04 - val_loss: 0.0014\n",
      "Epoch 65/100\n",
      "12/12 [==============================] - 1s 100ms/step - loss: 2.1389e-04 - val_loss: 0.0011\n",
      "Epoch 66/100\n",
      "12/12 [==============================] - 2s 153ms/step - loss: 2.1017e-04 - val_loss: 0.0011\n",
      "Epoch 67/100\n",
      "12/12 [==============================] - 2s 140ms/step - loss: 1.9303e-04 - val_loss: 0.0013\n",
      "Epoch 68/100\n",
      "12/12 [==============================] - 1s 60ms/step - loss: 1.8108e-04 - val_loss: 0.0011\n",
      "Epoch 69/100\n",
      "12/12 [==============================] - 1s 126ms/step - loss: 1.8604e-04 - val_loss: 0.0010\n",
      "Epoch 70/100\n",
      "12/12 [==============================] - 2s 149ms/step - loss: 1.8535e-04 - val_loss: 0.0012\n",
      "Epoch 71/100\n",
      "12/12 [==============================] - 1s 60ms/step - loss: 1.9637e-04 - val_loss: 0.0010\n",
      "Epoch 72/100\n",
      "12/12 [==============================] - 1s 71ms/step - loss: 1.7913e-04 - val_loss: 0.0012\n",
      "Epoch 73/100\n",
      "12/12 [==============================] - 2s 150ms/step - loss: 2.1061e-04 - val_loss: 0.0010\n",
      "Epoch 74/100\n",
      "12/12 [==============================] - 1s 122ms/step - loss: 2.1585e-04 - val_loss: 0.0015\n",
      "Epoch 75/100\n",
      "12/12 [==============================] - 2s 159ms/step - loss: 1.9252e-04 - val_loss: 0.0013\n",
      "Epoch 76/100\n",
      "12/12 [==============================] - 1s 97ms/step - loss: 1.9555e-04 - val_loss: 0.0012\n",
      "Epoch 77/100\n",
      "12/12 [==============================] - 1s 92ms/step - loss: 1.6710e-04 - val_loss: 0.0012\n",
      "Epoch 78/100\n",
      "12/12 [==============================] - 2s 139ms/step - loss: 1.8789e-04 - val_loss: 0.0013\n",
      "Epoch 79/100\n",
      "12/12 [==============================] - 1s 95ms/step - loss: 1.7766e-04 - val_loss: 0.0012\n",
      "Epoch 80/100\n",
      "12/12 [==============================] - 2s 185ms/step - loss: 1.7585e-04 - val_loss: 9.8489e-04\n",
      "Epoch 81/100\n",
      "12/12 [==============================] - 1s 103ms/step - loss: 1.6083e-04 - val_loss: 0.0010\n",
      "Epoch 82/100\n",
      "12/12 [==============================] - 1s 64ms/step - loss: 1.5800e-04 - val_loss: 9.0716e-04\n",
      "Epoch 83/100\n",
      "12/12 [==============================] - 2s 147ms/step - loss: 1.4594e-04 - val_loss: 8.9244e-04\n",
      "Epoch 84/100\n",
      "12/12 [==============================] - 2s 130ms/step - loss: 1.4886e-04 - val_loss: 9.0210e-04\n",
      "Epoch 85/100\n",
      "12/12 [==============================] - 1s 84ms/step - loss: 1.4078e-04 - val_loss: 8.8019e-04\n",
      "Epoch 86/100\n",
      "12/12 [==============================] - 2s 187ms/step - loss: 1.4175e-04 - val_loss: 9.1062e-04\n",
      "Epoch 87/100\n",
      "12/12 [==============================] - 1s 83ms/step - loss: 1.4288e-04 - val_loss: 8.6817e-04\n",
      "Epoch 88/100\n",
      "12/12 [==============================] - 0s 40ms/step - loss: 1.4291e-04 - val_loss: 8.5927e-04\n",
      "Epoch 89/100\n",
      "12/12 [==============================] - 0s 40ms/step - loss: 1.4765e-04 - val_loss: 8.3912e-04\n",
      "Epoch 90/100\n",
      "12/12 [==============================] - 0s 41ms/step - loss: 1.6016e-04 - val_loss: 0.0010\n",
      "Epoch 91/100\n",
      "12/12 [==============================] - 2s 148ms/step - loss: 1.7537e-04 - val_loss: 9.4040e-04\n",
      "Epoch 92/100\n",
      "12/12 [==============================] - 2s 134ms/step - loss: 1.3833e-04 - val_loss: 8.4048e-04\n",
      "Epoch 93/100\n",
      "12/12 [==============================] - 1s 52ms/step - loss: 1.3106e-04 - val_loss: 9.1646e-04\n",
      "Epoch 94/100\n",
      "12/12 [==============================] - 1s 124ms/step - loss: 1.3052e-04 - val_loss: 8.2624e-04\n",
      "Epoch 95/100\n",
      "12/12 [==============================] - 2s 152ms/step - loss: 1.2917e-04 - val_loss: 8.0145e-04\n",
      "Epoch 96/100\n",
      "12/12 [==============================] - 1s 58ms/step - loss: 1.3126e-04 - val_loss: 8.1401e-04\n",
      "Epoch 97/100\n",
      "12/12 [==============================] - 1s 110ms/step - loss: 1.2482e-04 - val_loss: 9.1097e-04\n",
      "Epoch 98/100\n",
      "12/12 [==============================] - 2s 161ms/step - loss: 1.2960e-04 - val_loss: 8.2189e-04\n",
      "Epoch 99/100\n",
      "12/12 [==============================] - 1s 68ms/step - loss: 1.2567e-04 - val_loss: 8.3028e-04\n",
      "Epoch 100/100\n",
      "12/12 [==============================] - 2s 143ms/step - loss: 1.5382e-04 - val_loss: 7.7184e-04\n"
     ]
    },
    {
     "data": {
      "text/plain": [
       "<keras.callbacks.History at 0x2a3f754cfa0>"
      ]
     },
     "execution_count": 75,
     "metadata": {},
     "output_type": "execute_result"
    }
   ],
   "source": [
    "model.fit(X_train,y_train,validation_data=(X_test,y_test),epochs=100,batch_size=64)"
   ]
  },
  {
   "cell_type": "code",
   "execution_count": 100,
   "metadata": {},
   "outputs": [],
   "source": [
    "train_predict=model.predict(X_train)\n",
    "test_predict=model.predict(X_test)"
   ]
  },
  {
   "cell_type": "code",
   "execution_count": 99,
   "metadata": {},
   "outputs": [],
   "source": [
    "from sklearn.metrics import r2_score, mean_squared_error"
   ]
  },
  {
   "cell_type": "code",
   "execution_count": 91,
   "metadata": {},
   "outputs": [
    {
     "data": {
      "text/plain": [
       "0.9813366827782483"
      ]
     },
     "execution_count": 91,
     "metadata": {},
     "output_type": "execute_result"
    }
   ],
   "source": [
    "r2_score(test_predict,y_test)"
   ]
  },
  {
   "cell_type": "code",
   "execution_count": 117,
   "metadata": {},
   "outputs": [
    {
     "data": {
      "text/plain": [
       "(1258, 1)"
      ]
     },
     "execution_count": 117,
     "metadata": {},
     "output_type": "execute_result"
    }
   ],
   "source": [
    "df1.shape"
   ]
  },
  {
   "cell_type": "code",
   "execution_count": 131,
   "metadata": {},
   "outputs": [
    {
     "data": {
      "image/png": "[encoded data removed]",
      "text/plain": [
       "<Figure size 1296x432 with 1 Axes>"
      ]
     },
     "metadata": {
      "needs_background": "light"
     },
     "output_type": "display_data"
    }
   ],
   "source": [
    "plt.figure(figsize=(18,6))\n",
    "plt.plot(scaler.inverse_transform(df1),label='true value')\n",
    "x=np.arange(100,100+train_predict.shape[0])\n",
    "y=scaler.inverse_transform(train_predict).reshape(-1)\n",
    "plt.plot(x,y,label='predicted_train')\n",
    "x=np.arange(200+train_predict.shape[0],df1.shape[0])\n",
    "y=scaler.inverse_transform(test_predict).reshape(-1)\n",
    "plt.plot(x,y,label='predicted_test')\n",
    "plt.xlim(0,1300)\n",
    "plt.legend()\n",
    "plt.show()"
   ]
  },
  {
   "cell_type": "markdown",
   "metadata": {},
   "source": [
    "### Generade prediction for next 10 days"
   ]
  },
  {
   "cell_type": "code",
   "execution_count": 249,
   "metadata": {},
   "outputs": [
    {
     "data": {
      "text/plain": [
       "array([[0.9545933]], dtype=float32)"
      ]
     },
     "execution_count": 249,
     "metadata": {},
     "output_type": "execute_result"
    }
   ],
   "source": [
    "model.predict(df1[-100:].reshape(1,100,1))"
   ]
  },
  {
   "cell_type": "code",
   "execution_count": 270,
   "metadata": {},
   "outputs": [],
   "source": [
    "day=29\n",
    "output=np.zeros(shape=day)\n",
    "X_new=np.zeros(shape=(1,100+day,1))\n",
    "X_new[:,:100,:]=df1[-100:].reshape(1,100,1)\n",
    "\n",
    "for i in range(day):\n",
    "    y_new=model.predict(X_new[:,i:i+100,:])\n",
    "    output[i]=y_new[0][0]\n",
    "    X_new[:,100+i,:]=output[i]"
   ]
  },
  {
   "cell_type": "code",
   "execution_count": 271,
   "metadata": {},
   "outputs": [
    {
     "data": {
      "image/png": "[encoded data removed]",
      "text/plain": [
       "<Figure size 1296x432 with 1 Axes>"
      ]
     },
     "metadata": {
      "needs_background": "light"
     },
     "output_type": "display_data"
    }
   ],
   "source": [
    "plt.figure(figsize=(18,6))\n",
    "plt.plot(scaler.inverse_transform(df1),label='true value')\n",
    "###########################################################################\n",
    "x=np.arange(df1.shape[0]+1,df1.shape[0]+day+1)\n",
    "y=scaler.inverse_transform(output.reshape(-1,1))\n",
    "plt.plot(x,y,label='forecast_value')\n",
    "###########################################################################\n",
    "# plt.xlim(0,1500)\n",
    "plt.legend()\n",
    "plt.show()"
   ]
  },
  {
   "cell_type": "code",
   "execution_count": null,
   "metadata": {},
   "outputs": [],
   "source": []
  }
 ],
 "metadata": {
  "kernelspec": {
   "display_name": "Python 3 (ipykernel)",
   "language": "python",
   "name": "python3"
  },
  "language_info": {
   "codemirror_mode": {
    "name": "ipython",
    "version": 3
   },
   "file_extension": ".py",
   "mimetype": "text/x-python",
   "name": "python",
   "nbconvert_exporter": "python",
   "pygments_lexer": "ipython3",
   "version": "3.8.10"
  }
 },
 "nbformat": 4,
 "nbformat_minor": 4
}
