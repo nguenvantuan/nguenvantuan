{
 "cells": [
  {
   "cell_type": "markdown",
   "metadata": {},
   "source": [
    "### Stock Market Prediction And Forecasting Using Stacked LSTM"
   ]
  },
  {
   "cell_type": "code",
   "execution_count": 1,
   "metadata": {},
   "outputs": [],
   "source": [
    "import pandas as pd"
   ]
  },
  {
   "cell_type": "code",
   "execution_count": 2,
   "metadata": {},
   "outputs": [],
   "source": [
    "df=pd.read_csv('AAPL.csv')"
   ]
  },
  {
   "cell_type": "code",
   "execution_count": 3,
   "metadata": {},
   "outputs": [
    {
     "data": {
      "text/html": [
       "<div>\n",
       "<style scoped>\n",
       "    .dataframe tbody tr th:only-of-type {\n",
       "        vertical-align: middle;\n",
       "    }\n",
       "\n",
       "    .dataframe tbody tr th {\n",
       "        vertical-align: top;\n",
       "    }\n",
       "\n",
       "    .dataframe thead th {\n",
       "        text-align: right;\n",
       "    }\n",
       "</style>\n",
       "<table border=\"1\" class=\"dataframe\">\n",
       "  <thead>\n",
       "    <tr style=\"text-align: right;\">\n",
       "      <th></th>\n",
       "      <th>Unnamed: 0</th>\n",
       "      <th>symbol</th>\n",
       "      <th>date</th>\n",
       "      <th>close</th>\n",
       "      <th>high</th>\n",
       "      <th>low</th>\n",
       "      <th>open</th>\n",
       "      <th>volume</th>\n",
       "      <th>adjClose</th>\n",
       "      <th>adjHigh</th>\n",
       "      <th>adjLow</th>\n",
       "      <th>adjOpen</th>\n",
       "      <th>adjVolume</th>\n",
       "      <th>divCash</th>\n",
       "      <th>splitFactor</th>\n",
       "    </tr>\n",
       "  </thead>\n",
       "  <tbody>\n",
       "    <tr>\n",
       "      <th>0</th>\n",
       "      <td>0</td>\n",
       "      <td>AAPL</td>\n",
       "      <td>2015-05-27 00:00:00+00:00</td>\n",
       "      <td>132.045</td>\n",
       "      <td>132.260</td>\n",
       "      <td>130.05</td>\n",
       "      <td>130.34</td>\n",
       "      <td>45833246</td>\n",
       "      <td>121.682558</td>\n",
       "      <td>121.880685</td>\n",
       "      <td>119.844118</td>\n",
       "      <td>120.111360</td>\n",
       "      <td>45833246</td>\n",
       "      <td>0.0</td>\n",
       "      <td>1.0</td>\n",
       "    </tr>\n",
       "    <tr>\n",
       "      <th>1</th>\n",
       "      <td>1</td>\n",
       "      <td>AAPL</td>\n",
       "      <td>2015-05-28 00:00:00+00:00</td>\n",
       "      <td>131.780</td>\n",
       "      <td>131.950</td>\n",
       "      <td>131.10</td>\n",
       "      <td>131.86</td>\n",
       "      <td>30733309</td>\n",
       "      <td>121.438354</td>\n",
       "      <td>121.595013</td>\n",
       "      <td>120.811718</td>\n",
       "      <td>121.512076</td>\n",
       "      <td>30733309</td>\n",
       "      <td>0.0</td>\n",
       "      <td>1.0</td>\n",
       "    </tr>\n",
       "    <tr>\n",
       "      <th>2</th>\n",
       "      <td>2</td>\n",
       "      <td>AAPL</td>\n",
       "      <td>2015-05-29 00:00:00+00:00</td>\n",
       "      <td>130.280</td>\n",
       "      <td>131.450</td>\n",
       "      <td>129.90</td>\n",
       "      <td>131.23</td>\n",
       "      <td>50884452</td>\n",
       "      <td>120.056069</td>\n",
       "      <td>121.134251</td>\n",
       "      <td>119.705890</td>\n",
       "      <td>120.931516</td>\n",
       "      <td>50884452</td>\n",
       "      <td>0.0</td>\n",
       "      <td>1.0</td>\n",
       "    </tr>\n",
       "    <tr>\n",
       "      <th>3</th>\n",
       "      <td>3</td>\n",
       "      <td>AAPL</td>\n",
       "      <td>2015-06-01 00:00:00+00:00</td>\n",
       "      <td>130.535</td>\n",
       "      <td>131.390</td>\n",
       "      <td>130.05</td>\n",
       "      <td>131.20</td>\n",
       "      <td>32112797</td>\n",
       "      <td>120.291057</td>\n",
       "      <td>121.078960</td>\n",
       "      <td>119.844118</td>\n",
       "      <td>120.903870</td>\n",
       "      <td>32112797</td>\n",
       "      <td>0.0</td>\n",
       "      <td>1.0</td>\n",
       "    </tr>\n",
       "    <tr>\n",
       "      <th>4</th>\n",
       "      <td>4</td>\n",
       "      <td>AAPL</td>\n",
       "      <td>2015-06-02 00:00:00+00:00</td>\n",
       "      <td>129.960</td>\n",
       "      <td>130.655</td>\n",
       "      <td>129.32</td>\n",
       "      <td>129.86</td>\n",
       "      <td>33667627</td>\n",
       "      <td>119.761181</td>\n",
       "      <td>120.401640</td>\n",
       "      <td>119.171406</td>\n",
       "      <td>119.669029</td>\n",
       "      <td>33667627</td>\n",
       "      <td>0.0</td>\n",
       "      <td>1.0</td>\n",
       "    </tr>\n",
       "  </tbody>\n",
       "</table>\n",
       "</div>"
      ],
      "text/plain": [
       "   Unnamed: 0 symbol                       date    close     high     low  \\\n",
       "0           0   AAPL  2015-05-27 00:00:00+00:00  132.045  132.260  130.05   \n",
       "1           1   AAPL  2015-05-28 00:00:00+00:00  131.780  131.950  131.10   \n",
       "2           2   AAPL  2015-05-29 00:00:00+00:00  130.280  131.450  129.90   \n",
       "3           3   AAPL  2015-06-01 00:00:00+00:00  130.535  131.390  130.05   \n",
       "4           4   AAPL  2015-06-02 00:00:00+00:00  129.960  130.655  129.32   \n",
       "\n",
       "     open    volume    adjClose     adjHigh      adjLow     adjOpen  \\\n",
       "0  130.34  45833246  121.682558  121.880685  119.844118  120.111360   \n",
       "1  131.86  30733309  121.438354  121.595013  120.811718  121.512076   \n",
       "2  131.23  50884452  120.056069  121.134251  119.705890  120.931516   \n",
       "3  131.20  32112797  120.291057  121.078960  119.844118  120.903870   \n",
       "4  129.86  33667627  119.761181  120.401640  119.171406  119.669029   \n",
       "\n",
       "   adjVolume  divCash  splitFactor  \n",
       "0   45833246      0.0          1.0  \n",
       "1   30733309      0.0          1.0  \n",
       "2   50884452      0.0          1.0  \n",
       "3   32112797      0.0          1.0  \n",
       "4   33667627      0.0          1.0  "
      ]
     },
     "execution_count": 3,
     "metadata": {},
     "output_type": "execute_result"
    }
   ],
   "source": [
    "df.head()"
   ]
  },
  {
   "cell_type": "code",
   "execution_count": 4,
   "metadata": {},
   "outputs": [
    {
     "data": {
      "text/html": [
       "<div>\n",
       "<style scoped>\n",
       "    .dataframe tbody tr th:only-of-type {\n",
       "        vertical-align: middle;\n",
       "    }\n",
       "\n",
       "    .dataframe tbody tr th {\n",
       "        vertical-align: top;\n",
       "    }\n",
       "\n",
       "    .dataframe thead th {\n",
       "        text-align: right;\n",
       "    }\n",
       "</style>\n",
       "<table border=\"1\" class=\"dataframe\">\n",
       "  <thead>\n",
       "    <tr style=\"text-align: right;\">\n",
       "      <th></th>\n",
       "      <th>Unnamed: 0</th>\n",
       "      <th>symbol</th>\n",
       "      <th>date</th>\n",
       "      <th>close</th>\n",
       "      <th>high</th>\n",
       "      <th>low</th>\n",
       "      <th>open</th>\n",
       "      <th>volume</th>\n",
       "      <th>adjClose</th>\n",
       "      <th>adjHigh</th>\n",
       "      <th>adjLow</th>\n",
       "      <th>adjOpen</th>\n",
       "      <th>adjVolume</th>\n",
       "      <th>divCash</th>\n",
       "      <th>splitFactor</th>\n",
       "    </tr>\n",
       "  </thead>\n",
       "  <tbody>\n",
       "    <tr>\n",
       "      <th>1253</th>\n",
       "      <td>1253</td>\n",
       "      <td>AAPL</td>\n",
       "      <td>2020-05-18 00:00:00+00:00</td>\n",
       "      <td>314.96</td>\n",
       "      <td>316.50</td>\n",
       "      <td>310.3241</td>\n",
       "      <td>313.17</td>\n",
       "      <td>33843125</td>\n",
       "      <td>314.96</td>\n",
       "      <td>316.50</td>\n",
       "      <td>310.3241</td>\n",
       "      <td>313.17</td>\n",
       "      <td>33843125</td>\n",
       "      <td>0.0</td>\n",
       "      <td>1.0</td>\n",
       "    </tr>\n",
       "    <tr>\n",
       "      <th>1254</th>\n",
       "      <td>1254</td>\n",
       "      <td>AAPL</td>\n",
       "      <td>2020-05-19 00:00:00+00:00</td>\n",
       "      <td>313.14</td>\n",
       "      <td>318.52</td>\n",
       "      <td>313.0100</td>\n",
       "      <td>315.03</td>\n",
       "      <td>25432385</td>\n",
       "      <td>313.14</td>\n",
       "      <td>318.52</td>\n",
       "      <td>313.0100</td>\n",
       "      <td>315.03</td>\n",
       "      <td>25432385</td>\n",
       "      <td>0.0</td>\n",
       "      <td>1.0</td>\n",
       "    </tr>\n",
       "    <tr>\n",
       "      <th>1255</th>\n",
       "      <td>1255</td>\n",
       "      <td>AAPL</td>\n",
       "      <td>2020-05-20 00:00:00+00:00</td>\n",
       "      <td>319.23</td>\n",
       "      <td>319.52</td>\n",
       "      <td>316.2000</td>\n",
       "      <td>316.68</td>\n",
       "      <td>27876215</td>\n",
       "      <td>319.23</td>\n",
       "      <td>319.52</td>\n",
       "      <td>316.2000</td>\n",
       "      <td>316.68</td>\n",
       "      <td>27876215</td>\n",
       "      <td>0.0</td>\n",
       "      <td>1.0</td>\n",
       "    </tr>\n",
       "    <tr>\n",
       "      <th>1256</th>\n",
       "      <td>1256</td>\n",
       "      <td>AAPL</td>\n",
       "      <td>2020-05-21 00:00:00+00:00</td>\n",
       "      <td>316.85</td>\n",
       "      <td>320.89</td>\n",
       "      <td>315.8700</td>\n",
       "      <td>318.66</td>\n",
       "      <td>25672211</td>\n",
       "      <td>316.85</td>\n",
       "      <td>320.89</td>\n",
       "      <td>315.8700</td>\n",
       "      <td>318.66</td>\n",
       "      <td>25672211</td>\n",
       "      <td>0.0</td>\n",
       "      <td>1.0</td>\n",
       "    </tr>\n",
       "    <tr>\n",
       "      <th>1257</th>\n",
       "      <td>1257</td>\n",
       "      <td>AAPL</td>\n",
       "      <td>2020-05-22 00:00:00+00:00</td>\n",
       "      <td>318.89</td>\n",
       "      <td>319.23</td>\n",
       "      <td>315.3500</td>\n",
       "      <td>315.77</td>\n",
       "      <td>20450754</td>\n",
       "      <td>318.89</td>\n",
       "      <td>319.23</td>\n",
       "      <td>315.3500</td>\n",
       "      <td>315.77</td>\n",
       "      <td>20450754</td>\n",
       "      <td>0.0</td>\n",
       "      <td>1.0</td>\n",
       "    </tr>\n",
       "  </tbody>\n",
       "</table>\n",
       "</div>"
      ],
      "text/plain": [
       "      Unnamed: 0 symbol                       date   close    high       low  \\\n",
       "1253        1253   AAPL  2020-05-18 00:00:00+00:00  314.96  316.50  310.3241   \n",
       "1254        1254   AAPL  2020-05-19 00:00:00+00:00  313.14  318.52  313.0100   \n",
       "1255        1255   AAPL  2020-05-20 00:00:00+00:00  319.23  319.52  316.2000   \n",
       "1256        1256   AAPL  2020-05-21 00:00:00+00:00  316.85  320.89  315.8700   \n",
       "1257        1257   AAPL  2020-05-22 00:00:00+00:00  318.89  319.23  315.3500   \n",
       "\n",
       "        open    volume  adjClose  adjHigh    adjLow  adjOpen  adjVolume  \\\n",
       "1253  313.17  33843125    314.96   316.50  310.3241   313.17   33843125   \n",
       "1254  315.03  25432385    313.14   318.52  313.0100   315.03   25432385   \n",
       "1255  316.68  27876215    319.23   319.52  316.2000   316.68   27876215   \n",
       "1256  318.66  25672211    316.85   320.89  315.8700   318.66   25672211   \n",
       "1257  315.77  20450754    318.89   319.23  315.3500   315.77   20450754   \n",
       "\n",
       "      divCash  splitFactor  \n",
       "1253      0.0          1.0  \n",
       "1254      0.0          1.0  \n",
       "1255      0.0          1.0  \n",
       "1256      0.0          1.0  \n",
       "1257      0.0          1.0  "
      ]
     },
     "execution_count": 4,
     "metadata": {},
     "output_type": "execute_result"
    }
   ],
   "source": [
    "df.tail()"
   ]
  },
  {
   "cell_type": "code",
   "execution_count": 5,
   "metadata": {},
   "outputs": [],
   "source": [
    "df1=df['close']"
   ]
  },
  {
   "cell_type": "code",
   "execution_count": 6,
   "metadata": {},
   "outputs": [
    {
     "data": {
      "text/plain": [
       "0       132.045\n",
       "1       131.780\n",
       "2       130.280\n",
       "3       130.535\n",
       "4       129.960\n",
       "         ...   \n",
       "1253    314.960\n",
       "1254    313.140\n",
       "1255    319.230\n",
       "1256    316.850\n",
       "1257    318.890\n",
       "Name: close, Length: 1258, dtype: float64"
      ]
     },
     "execution_count": 6,
     "metadata": {},
     "output_type": "execute_result"
    }
   ],
   "source": [
    "df1"
   ]
  },
  {
   "cell_type": "code",
   "execution_count": 7,
   "metadata": {},
   "outputs": [
    {
     "data": {
      "text/plain": [
       "Text(0, 0.5, 'price')"
      ]
     },
     "execution_count": 7,
     "metadata": {},
     "output_type": "execute_result"
    },
    {
     "data": {
      "image/png": "[encoded data removed]",
      "text/plain": [
       "<Figure size 432x288 with 1 Axes>"
      ]
     },
     "metadata": {
      "needs_background": "light"
     },
     "output_type": "display_data"
    }
   ],
   "source": [
    "import matplotlib.pyplot as plt\n",
    "plt.plot(df1)\n",
    "plt.xlabel('day')\n",
    "plt.ylabel('price')"
   ]
  },
  {
   "cell_type": "code",
   "execution_count": 8,
   "metadata": {},
   "outputs": [],
   "source": [
    "import seaborn as sns"
   ]
  },
  {
   "cell_type": "code",
   "execution_count": 9,
   "metadata": {},
   "outputs": [
    {
     "data": {
      "text/plain": [
       "<AxesSubplot:xlabel='close', ylabel='Density'>"
      ]
     },
     "execution_count": 9,
     "metadata": {},
     "output_type": "execute_result"
    },
    {
     "data": {
      "image/png": "[encoded data removed]",
      "text/plain": [
       "<Figure size 432x288 with 1 Axes>"
      ]
     },
     "metadata": {
      "needs_background": "light"
     },
     "output_type": "display_data"
    }
   ],
   "source": [
    "sns.kdeplot(df1)"
   ]
  },
  {
   "cell_type": "code",
   "execution_count": 10,
   "metadata": {},
   "outputs": [],
   "source": [
    "from sklearn.preprocessing import MinMaxScaler"
   ]
  },
  {
   "cell_type": "code",
   "execution_count": 11,
   "metadata": {},
   "outputs": [
    {
     "data": {
      "text/plain": [
       "array([[132.045],\n",
       "       [131.78 ],\n",
       "       [130.28 ],\n",
       "       ...,\n",
       "       [319.23 ],\n",
       "       [316.85 ],\n",
       "       [318.89 ]])"
      ]
     },
     "execution_count": 11,
     "metadata": {},
     "output_type": "execute_result"
    }
   ],
   "source": [
    "df1.values.reshape(-1,1)"
   ]
  },
  {
   "cell_type": "code",
   "execution_count": 12,
   "metadata": {},
   "outputs": [],
   "source": [
    "scaler=MinMaxScaler(feature_range=(0,1))\n",
    "df1=scaler.fit_transform(df1.values.reshape(-1,1))"
   ]
  },
  {
   "cell_type": "code",
   "execution_count": 13,
   "metadata": {},
   "outputs": [
    {
     "name": "stdout",
     "output_type": "stream",
     "text": [
      "[[0.17607447]\n",
      " [0.17495567]\n",
      " [0.16862282]\n",
      " ...\n",
      " [0.96635143]\n",
      " [0.9563033 ]\n",
      " [0.96491598]]\n"
     ]
    }
   ],
   "source": [
    "print(df1)"
   ]
  },
  {
   "cell_type": "code",
   "execution_count": 14,
   "metadata": {},
   "outputs": [],
   "source": [
    "training_size=int(len(df1)*0.65)\n",
    "test_size=len(df1)-training_size\n",
    "train_data=df1[0:training_size,:]\n",
    "test_data=df1[training_size:len(df1),:]"
   ]
  },
  {
   "cell_type": "code",
   "execution_count": 15,
   "metadata": {},
   "outputs": [
    {
     "data": {
      "text/plain": [
       "(817, 441)"
      ]
     },
     "execution_count": 15,
     "metadata": {},
     "output_type": "execute_result"
    }
   ],
   "source": [
    "training_size,test_size"
   ]
  },
  {
   "cell_type": "code",
   "execution_count": 16,
   "metadata": {},
   "outputs": [],
   "source": [
    "import numpy as np"
   ]
  },
  {
   "cell_type": "code",
   "execution_count": 17,
   "metadata": {},
   "outputs": [],
   "source": [
    "def create_dataset(dataset, time_step=1):\n",
    "    data, target = [], []\n",
    "    for i in range(len(dataset)-time_step):\n",
    "        a = dataset[i:(i+time_step), 0]\n",
    "        data.append(a)\n",
    "        target.append(dataset[i + time_step, 0])\n",
    "    return np.array(data), np.array(target)"
   ]
  },
  {
   "cell_type": "code",
   "execution_count": 18,
   "metadata": {},
   "outputs": [],
   "source": [
    "time_step = 100\n",
    "X_train, y_train = create_dataset(train_data, time_step)\n",
    "X_test, y_test = create_dataset(test_data, time_step)"
   ]
  },
  {
   "cell_type": "code",
   "execution_count": 19,
   "metadata": {},
   "outputs": [
    {
     "data": {
      "text/plain": [
       "((717, 100), (717,))"
      ]
     },
     "execution_count": 19,
     "metadata": {},
     "output_type": "execute_result"
    }
   ],
   "source": [
    "X_train.shape, y_train.shape"
   ]
  },
  {
   "cell_type": "code",
   "execution_count": 20,
   "metadata": {},
   "outputs": [
    {
     "data": {
      "text/plain": [
       "((341, 100), (341,))"
      ]
     },
     "execution_count": 20,
     "metadata": {},
     "output_type": "execute_result"
    }
   ],
   "source": [
    "X_test.shape, y_test.shape"
   ]
  },
  {
   "cell_type": "code",
   "execution_count": 21,
   "metadata": {},
   "outputs": [],
   "source": [
    "X_train =X_train.reshape(X_train.shape[0],X_train.shape[1] , 1)\n",
    "X_test = X_test.reshape(X_test.shape[0],X_test.shape[1] , 1)"
   ]
  },
  {
   "cell_type": "code",
   "execution_count": 22,
   "metadata": {},
   "outputs": [],
   "source": [
    "from keras.models import Sequential\n",
    "from keras.layers import Dense\n",
    "from keras.layers import LSTM"
   ]
  },
  {
   "cell_type": "code",
   "execution_count": 23,
   "metadata": {},
   "outputs": [],
   "source": [
    "model=Sequential()\n",
    "model.add(LSTM(50,return_sequences=True,input_shape=(None,1)))\n",
    "model.add(LSTM(50,return_sequences=True))\n",
    "model.add(LSTM(50))\n",
    "model.add(Dense(1))\n",
    "model.compile(loss='mean_squared_error',optimizer='adam')"
   ]
  },
  {
   "cell_type": "code",
   "execution_count": 24,
   "metadata": {},
   "outputs": [
    {
     "name": "stdout",
     "output_type": "stream",
     "text": [
      "Model: \"sequential\"\n",
      "_________________________________________________________________\n",
      " Layer (type)                Output Shape              Param #   \n",
      "=================================================================\n",
      " lstm (LSTM)                 (None, None, 50)          10400     \n",
      "                                                                 \n",
      " lstm_1 (LSTM)               (None, None, 50)          20200     \n",
      "                                                                 \n",
      " lstm_2 (LSTM)               (None, 50)                20200     \n",
      "                                                                 \n",
      " dense (Dense)               (None, 1)                 51        \n",
      "                                                                 \n",
      "=================================================================\n",
      "Total params: 50,851\n",
      "Trainable params: 50,851\n",
      "Non-trainable params: 0\n",
      "_________________________________________________________________\n"
     ]
    }
   ],
   "source": [
    "model.summary()"
   ]
  },
  {
   "cell_type": "code",
   "execution_count": 25,
   "metadata": {},
   "outputs": [
    {
     "name": "stdout",
     "output_type": "stream",
     "text": [
      "Epoch 1/100\n",
      "12/12 [==============================] - 25s 126ms/step - loss: 0.0123 - val_loss: 0.0610\n",
      "Epoch 2/100\n",
      "12/12 [==============================] - 0s 33ms/step - loss: 0.0029 - val_loss: 0.0043\n",
      "Epoch 3/100\n",
      "12/12 [==============================] - 0s 32ms/step - loss: 9.0756e-04 - val_loss: 0.0053\n",
      "Epoch 4/100\n",
      "12/12 [==============================] - 0s 31ms/step - loss: 7.0659e-04 - val_loss: 0.0036\n",
      "Epoch 5/100\n",
      "12/12 [==============================] - 0s 32ms/step - loss: 6.2614e-04 - val_loss: 0.0035\n",
      "Epoch 6/100\n",
      "12/12 [==============================] - 0s 30ms/step - loss: 6.5826e-04 - val_loss: 0.0036\n",
      "Epoch 7/100\n",
      "12/12 [==============================] - 0s 31ms/step - loss: 6.0037e-04 - val_loss: 0.0043\n",
      "Epoch 8/100\n",
      "12/12 [==============================] - 0s 31ms/step - loss: 5.9097e-04 - val_loss: 0.0038\n",
      "Epoch 9/100\n",
      "12/12 [==============================] - 0s 30ms/step - loss: 5.5788e-04 - val_loss: 0.0033\n",
      "Epoch 10/100\n",
      "12/12 [==============================] - 0s 31ms/step - loss: 5.6362e-04 - val_loss: 0.0033\n",
      "Epoch 11/100\n",
      "12/12 [==============================] - 0s 32ms/step - loss: 5.3985e-04 - val_loss: 0.0031\n",
      "Epoch 12/100\n",
      "12/12 [==============================] - 0s 31ms/step - loss: 5.4734e-04 - val_loss: 0.0031\n",
      "Epoch 13/100\n",
      "12/12 [==============================] - 0s 32ms/step - loss: 5.2580e-04 - val_loss: 0.0031\n",
      "Epoch 14/100\n",
      "12/12 [==============================] - 0s 32ms/step - loss: 5.2348e-04 - val_loss: 0.0030\n",
      "Epoch 15/100\n",
      "12/12 [==============================] - 0s 33ms/step - loss: 5.0178e-04 - val_loss: 0.0028\n",
      "Epoch 16/100\n",
      "12/12 [==============================] - 0s 33ms/step - loss: 4.9389e-04 - val_loss: 0.0033\n",
      "Epoch 17/100\n",
      "12/12 [==============================] - 0s 33ms/step - loss: 5.5146e-04 - val_loss: 0.0033\n",
      "Epoch 18/100\n",
      "12/12 [==============================] - 0s 32ms/step - loss: 4.8341e-04 - val_loss: 0.0028\n",
      "Epoch 19/100\n",
      "12/12 [==============================] - 0s 32ms/step - loss: 4.9160e-04 - val_loss: 0.0025\n",
      "Epoch 20/100\n",
      "12/12 [==============================] - 0s 30ms/step - loss: 4.7988e-04 - val_loss: 0.0024\n",
      "Epoch 21/100\n",
      "12/12 [==============================] - 0s 32ms/step - loss: 4.5691e-04 - val_loss: 0.0023\n",
      "Epoch 22/100\n",
      "12/12 [==============================] - 0s 33ms/step - loss: 4.3879e-04 - val_loss: 0.0024\n",
      "Epoch 23/100\n",
      "12/12 [==============================] - 0s 30ms/step - loss: 4.5394e-04 - val_loss: 0.0021\n",
      "Epoch 24/100\n",
      "12/12 [==============================] - 0s 31ms/step - loss: 4.4173e-04 - val_loss: 0.0020\n",
      "Epoch 25/100\n",
      "12/12 [==============================] - 0s 33ms/step - loss: 4.8154e-04 - val_loss: 0.0020\n",
      "Epoch 26/100\n",
      "12/12 [==============================] - 0s 34ms/step - loss: 4.7239e-04 - val_loss: 0.0023\n",
      "Epoch 27/100\n",
      "12/12 [==============================] - 0s 35ms/step - loss: 3.9484e-04 - val_loss: 0.0018\n",
      "Epoch 28/100\n",
      "12/12 [==============================] - 0s 33ms/step - loss: 3.9278e-04 - val_loss: 0.0018\n",
      "Epoch 29/100\n",
      "12/12 [==============================] - 0s 30ms/step - loss: 4.4235e-04 - val_loss: 0.0020\n",
      "Epoch 30/100\n",
      "12/12 [==============================] - 0s 33ms/step - loss: 4.6227e-04 - val_loss: 0.0033\n",
      "Epoch 31/100\n",
      "12/12 [==============================] - 0s 32ms/step - loss: 4.9720e-04 - val_loss: 0.0017\n",
      "Epoch 32/100\n",
      "12/12 [==============================] - 0s 31ms/step - loss: 4.5587e-04 - val_loss: 0.0018\n",
      "Epoch 33/100\n",
      "12/12 [==============================] - 0s 31ms/step - loss: 3.3864e-04 - val_loss: 0.0017\n",
      "Epoch 34/100\n",
      "12/12 [==============================] - 0s 32ms/step - loss: 3.4404e-04 - val_loss: 0.0015\n",
      "Epoch 35/100\n",
      "12/12 [==============================] - 0s 31ms/step - loss: 3.3172e-04 - val_loss: 0.0014\n",
      "Epoch 36/100\n",
      "12/12 [==============================] - 0s 31ms/step - loss: 3.4679e-04 - val_loss: 0.0014\n",
      "Epoch 37/100\n",
      "12/12 [==============================] - 0s 33ms/step - loss: 3.2171e-04 - val_loss: 0.0014\n",
      "Epoch 38/100\n",
      "12/12 [==============================] - 0s 32ms/step - loss: 3.1426e-04 - val_loss: 0.0014\n",
      "Epoch 39/100\n",
      "12/12 [==============================] - 0s 30ms/step - loss: 3.0646e-04 - val_loss: 0.0017\n",
      "Epoch 40/100\n",
      "12/12 [==============================] - 0s 35ms/step - loss: 3.1354e-04 - val_loss: 0.0013\n",
      "Epoch 41/100\n",
      "12/12 [==============================] - 0s 34ms/step - loss: 2.9972e-04 - val_loss: 0.0014\n",
      "Epoch 42/100\n",
      "12/12 [==============================] - 0s 32ms/step - loss: 2.9814e-04 - val_loss: 0.0014\n",
      "Epoch 43/100\n",
      "12/12 [==============================] - 0s 32ms/step - loss: 3.0126e-04 - val_loss: 0.0013\n",
      "Epoch 44/100\n",
      "12/12 [==============================] - 0s 32ms/step - loss: 2.8211e-04 - val_loss: 0.0013\n",
      "Epoch 45/100\n",
      "12/12 [==============================] - 0s 30ms/step - loss: 2.7440e-04 - val_loss: 0.0014\n",
      "Epoch 46/100\n",
      "12/12 [==============================] - 0s 30ms/step - loss: 3.0231e-04 - val_loss: 0.0016\n",
      "Epoch 47/100\n",
      "12/12 [==============================] - 0s 34ms/step - loss: 2.8331e-04 - val_loss: 0.0013\n",
      "Epoch 48/100\n",
      "12/12 [==============================] - 0s 32ms/step - loss: 2.5887e-04 - val_loss: 0.0012\n",
      "Epoch 49/100\n",
      "12/12 [==============================] - 0s 32ms/step - loss: 2.5021e-04 - val_loss: 0.0012\n",
      "Epoch 50/100\n",
      "12/12 [==============================] - 0s 30ms/step - loss: 2.4472e-04 - val_loss: 0.0012\n",
      "Epoch 51/100\n",
      "12/12 [==============================] - 0s 34ms/step - loss: 2.7096e-04 - val_loss: 0.0012\n",
      "Epoch 52/100\n",
      "12/12 [==============================] - 0s 32ms/step - loss: 2.3308e-04 - val_loss: 0.0012\n",
      "Epoch 53/100\n",
      "12/12 [==============================] - 0s 32ms/step - loss: 2.2972e-04 - val_loss: 0.0012\n",
      "Epoch 54/100\n",
      "12/12 [==============================] - 0s 31ms/step - loss: 2.2712e-04 - val_loss: 0.0011\n",
      "Epoch 55/100\n",
      "12/12 [==============================] - 0s 31ms/step - loss: 2.1799e-04 - val_loss: 0.0014\n",
      "Epoch 56/100\n",
      "12/12 [==============================] - 0s 37ms/step - loss: 2.4928e-04 - val_loss: 0.0014\n",
      "Epoch 57/100\n",
      "12/12 [==============================] - 0s 33ms/step - loss: 2.3483e-04 - val_loss: 0.0013\n",
      "Epoch 58/100\n",
      "12/12 [==============================] - 0s 35ms/step - loss: 2.2902e-04 - val_loss: 0.0015\n",
      "Epoch 59/100\n",
      "12/12 [==============================] - 0s 33ms/step - loss: 2.1049e-04 - val_loss: 0.0011\n",
      "Epoch 60/100\n",
      "12/12 [==============================] - 0s 32ms/step - loss: 2.0269e-04 - val_loss: 0.0011\n",
      "Epoch 61/100\n",
      "12/12 [==============================] - 0s 31ms/step - loss: 2.0005e-04 - val_loss: 0.0010\n",
      "Epoch 62/100\n",
      "12/12 [==============================] - 0s 30ms/step - loss: 1.9532e-04 - val_loss: 9.9272e-04\n",
      "Epoch 63/100\n",
      "12/12 [==============================] - 0s 30ms/step - loss: 1.9350e-04 - val_loss: 0.0016\n",
      "Epoch 64/100\n",
      "12/12 [==============================] - 0s 31ms/step - loss: 2.2320e-04 - val_loss: 0.0011\n",
      "Epoch 65/100\n",
      "12/12 [==============================] - 0s 37ms/step - loss: 1.9684e-04 - val_loss: 0.0011\n",
      "Epoch 66/100\n",
      "12/12 [==============================] - 0s 32ms/step - loss: 1.8335e-04 - val_loss: 0.0010\n",
      "Epoch 67/100\n",
      "12/12 [==============================] - 0s 31ms/step - loss: 1.9431e-04 - val_loss: 0.0012\n",
      "Epoch 68/100\n",
      "12/12 [==============================] - 0s 34ms/step - loss: 1.9263e-04 - val_loss: 0.0011\n",
      "Epoch 69/100\n",
      "12/12 [==============================] - 0s 35ms/step - loss: 2.0347e-04 - val_loss: 0.0014\n",
      "Epoch 70/100\n",
      "12/12 [==============================] - 0s 33ms/step - loss: 2.2647e-04 - val_loss: 0.0015\n",
      "Epoch 71/100\n",
      "12/12 [==============================] - 0s 36ms/step - loss: 2.0224e-04 - val_loss: 0.0010\n",
      "Epoch 72/100\n",
      "12/12 [==============================] - 0s 32ms/step - loss: 1.6714e-04 - val_loss: 0.0011\n",
      "Epoch 73/100\n",
      "12/12 [==============================] - 0s 31ms/step - loss: 1.8217e-04 - val_loss: 0.0010\n",
      "Epoch 74/100\n",
      "12/12 [==============================] - 0s 31ms/step - loss: 1.9293e-04 - val_loss: 0.0011\n",
      "Epoch 75/100\n",
      "12/12 [==============================] - 0s 31ms/step - loss: 1.7332e-04 - val_loss: 0.0010\n",
      "Epoch 76/100\n",
      "12/12 [==============================] - 0s 35ms/step - loss: 1.8566e-04 - val_loss: 0.0015\n",
      "Epoch 77/100\n",
      "12/12 [==============================] - 0s 32ms/step - loss: 1.7657e-04 - val_loss: 0.0010\n",
      "Epoch 78/100\n",
      "12/12 [==============================] - 0s 36ms/step - loss: 1.5733e-04 - val_loss: 8.9161e-04\n",
      "Epoch 79/100\n",
      "12/12 [==============================] - 0s 33ms/step - loss: 1.5409e-04 - val_loss: 9.8698e-04\n",
      "Epoch 80/100\n",
      "12/12 [==============================] - 0s 34ms/step - loss: 1.8050e-04 - val_loss: 0.0012\n",
      "Epoch 81/100\n",
      "12/12 [==============================] - 0s 32ms/step - loss: 1.6264e-04 - val_loss: 9.5413e-04\n",
      "Epoch 82/100\n",
      "12/12 [==============================] - 0s 32ms/step - loss: 1.4759e-04 - val_loss: 9.9457e-04\n",
      "Epoch 83/100\n",
      "12/12 [==============================] - 0s 34ms/step - loss: 1.5874e-04 - val_loss: 9.1712e-04\n",
      "Epoch 84/100\n",
      "12/12 [==============================] - 0s 32ms/step - loss: 1.5113e-04 - val_loss: 8.9784e-04\n",
      "Epoch 85/100\n",
      "12/12 [==============================] - 0s 33ms/step - loss: 1.5045e-04 - val_loss: 9.7419e-04\n",
      "Epoch 86/100\n",
      "12/12 [==============================] - 0s 32ms/step - loss: 1.4937e-04 - val_loss: 9.0228e-04\n",
      "Epoch 87/100\n",
      "12/12 [==============================] - 0s 30ms/step - loss: 1.3635e-04 - val_loss: 8.8458e-04\n",
      "Epoch 88/100\n",
      "12/12 [==============================] - 0s 34ms/step - loss: 1.5159e-04 - val_loss: 8.4692e-04\n",
      "Epoch 89/100\n",
      "12/12 [==============================] - 0s 34ms/step - loss: 1.4429e-04 - val_loss: 8.3481e-04\n",
      "Epoch 90/100\n",
      "12/12 [==============================] - 0s 31ms/step - loss: 1.3666e-04 - val_loss: 9.2381e-04\n",
      "Epoch 91/100\n",
      "12/12 [==============================] - 0s 32ms/step - loss: 1.5384e-04 - val_loss: 0.0011\n",
      "Epoch 92/100\n",
      "12/12 [==============================] - 0s 33ms/step - loss: 1.3698e-04 - val_loss: 8.7635e-04\n",
      "Epoch 93/100\n",
      "12/12 [==============================] - 0s 30ms/step - loss: 1.3480e-04 - val_loss: 9.1193e-04\n",
      "Epoch 94/100\n",
      "12/12 [==============================] - 0s 31ms/step - loss: 1.5797e-04 - val_loss: 0.0012\n",
      "Epoch 95/100\n",
      "12/12 [==============================] - 0s 34ms/step - loss: 1.4997e-04 - val_loss: 7.9738e-04\n",
      "Epoch 96/100\n",
      "12/12 [==============================] - 0s 35ms/step - loss: 1.2806e-04 - val_loss: 9.9106e-04\n",
      "Epoch 97/100\n",
      "12/12 [==============================] - 0s 31ms/step - loss: 1.2987e-04 - val_loss: 0.0011\n",
      "Epoch 98/100\n",
      "12/12 [==============================] - 0s 34ms/step - loss: 1.5914e-04 - val_loss: 7.6864e-04\n",
      "Epoch 99/100\n",
      "12/12 [==============================] - 0s 32ms/step - loss: 1.6381e-04 - val_loss: 8.0356e-04\n",
      "Epoch 100/100\n",
      "12/12 [==============================] - 0s 31ms/step - loss: 1.6132e-04 - val_loss: 7.8178e-04\n"
     ]
    },
    {
     "data": {
      "text/plain": [
       "<keras.callbacks.History at 0x2ce248cf3a0>"
      ]
     },
     "execution_count": 25,
     "metadata": {},
     "output_type": "execute_result"
    }
   ],
   "source": [
    "model.fit(X_train,y_train,validation_data=(X_test,y_test),epochs=100,batch_size=64)"
   ]
  },
  {
   "cell_type": "code",
   "execution_count": 26,
   "metadata": {},
   "outputs": [],
   "source": [
    "train_predict=model.predict(X_train)\n",
    "test_predict=model.predict(X_test)"
   ]
  },
  {
   "cell_type": "code",
   "execution_count": 27,
   "metadata": {},
   "outputs": [],
   "source": [
    "from sklearn.metrics import r2_score, mean_squared_error"
   ]
  },
  {
   "cell_type": "code",
   "execution_count": 28,
   "metadata": {},
   "outputs": [
    {
     "data": {
      "text/plain": [
       "0.9811933141587083"
      ]
     },
     "execution_count": 28,
     "metadata": {},
     "output_type": "execute_result"
    }
   ],
   "source": [
    "r2_score(test_predict,y_test)"
   ]
  },
  {
   "cell_type": "code",
   "execution_count": 39,
   "metadata": {},
   "outputs": [
    {
     "data": {
      "text/plain": [
       "0.981193316467611"
      ]
     },
     "execution_count": 39,
     "metadata": {},
     "output_type": "execute_result"
    }
   ],
   "source": [
    "r2_score(scaler.inverse_transform(test_predict.reshape(-1,1)),scaler.inverse_transform(y_test.reshape(-1,1)))"
   ]
  },
  {
   "cell_type": "code",
   "execution_count": 38,
   "metadata": {},
   "outputs": [
    {
     "data": {
      "text/plain": [
       "0.0007817775589267038"
      ]
     },
     "execution_count": 38,
     "metadata": {},
     "output_type": "execute_result"
    }
   ],
   "source": [
    "mean_squared_error(test_predict,y_test)"
   ]
  },
  {
   "cell_type": "code",
   "execution_count": 37,
   "metadata": {},
   "outputs": [
    {
     "data": {
      "text/plain": [
       "43.85979777783127"
      ]
     },
     "execution_count": 37,
     "metadata": {},
     "output_type": "execute_result"
    }
   ],
   "source": [
    "mean_squared_error(scaler.inverse_transform(test_predict.reshape(-1,1)),scaler.inverse_transform(y_test.reshape(-1,1)))"
   ]
  },
  {
   "cell_type": "code",
   "execution_count": 29,
   "metadata": {},
   "outputs": [
    {
     "data": {
      "text/plain": [
       "(1258, 1)"
      ]
     },
     "execution_count": 29,
     "metadata": {},
     "output_type": "execute_result"
    }
   ],
   "source": [
    "df1.shape"
   ]
  },
  {
   "cell_type": "code",
   "execution_count": 30,
   "metadata": {},
   "outputs": [
    {
     "data": {
      "image/png": "[encoded data removed]",
      "text/plain": [
       "<Figure size 1296x432 with 1 Axes>"
      ]
     },
     "metadata": {
      "needs_background": "light"
     },
     "output_type": "display_data"
    }
   ],
   "source": [
    "plt.figure(figsize=(18,6))\n",
    "plt.plot(scaler.inverse_transform(df1),label='true value')\n",
    "x=np.arange(100,100+train_predict.shape[0])\n",
    "y=scaler.inverse_transform(train_predict).reshape(-1)\n",
    "plt.plot(x,y,label='predicted_train')\n",
    "x=np.arange(200+train_predict.shape[0],df1.shape[0])\n",
    "y=scaler.inverse_transform(test_predict).reshape(-1)\n",
    "plt.plot(x,y,label='predicted_test')\n",
    "plt.xlim(0,1300)\n",
    "plt.legend()\n",
    "plt.show()"
   ]
  },
  {
   "cell_type": "code",
   "execution_count": 34,
   "metadata": {},
   "outputs": [
    {
     "data": {
      "image/png": "[encoded data removed]",
      "text/plain": [
       "<Figure size 1296x432 with 1 Axes>"
      ]
     },
     "metadata": {
      "needs_background": "light"
     },
     "output_type": "display_data"
    }
   ],
   "source": [
    "plt.figure(figsize=(18,6))\n",
    "plt.plot(scaler.inverse_transform(df1),label='true value')\n",
    "x=np.arange(200+train_predict.shape[0],df1.shape[0])\n",
    "y=scaler.inverse_transform(test_predict).reshape(-1)\n",
    "plt.plot(x,y,label='predicted_test')\n",
    "plt.xlim(900,1000)\n",
    "plt.legend()\n",
    "plt.show()"
   ]
  },
  {
   "cell_type": "markdown",
   "metadata": {},
   "source": [
    "### Generade prediction for next 10 days"
   ]
  },
  {
   "cell_type": "code",
   "execution_count": 249,
   "metadata": {},
   "outputs": [
    {
     "data": {
      "text/plain": [
       "array([[0.9545933]], dtype=float32)"
      ]
     },
     "execution_count": 249,
     "metadata": {},
     "output_type": "execute_result"
    }
   ],
   "source": [
    "model.predict(df1[-100:].reshape(1,100,1))"
   ]
  },
  {
   "cell_type": "code",
   "execution_count": 270,
   "metadata": {},
   "outputs": [],
   "source": [
    "day=29\n",
    "output=np.zeros(shape=day)\n",
    "X_new=np.zeros(shape=(1,100+day,1))\n",
    "X_new[:,:100,:]=df1[-100:].reshape(1,100,1)\n",
    "\n",
    "for i in range(day):\n",
    "    y_new=model.predict(X_new[:,i:i+100,:])\n",
    "    output[i]=y_new[0][0]\n",
    "    X_new[:,100+i,:]=output[i]"
   ]
  },
  {
   "cell_type": "code",
   "execution_count": 271,
   "metadata": {},
   "outputs": [
    {
     "data": {
      "image/png": "[encoded data removed]",
      "text/plain": [
       "<Figure size 1296x432 with 1 Axes>"
      ]
     },
     "metadata": {
      "needs_background": "light"
     },
     "output_type": "display_data"
    }
   ],
   "source": [
    "plt.figure(figsize=(18,6))\n",
    "plt.plot(scaler.inverse_transform(df1),label='true value')\n",
    "###########################################################################\n",
    "x=np.arange(df1.shape[0]+1,df1.shape[0]+day+1)\n",
    "y=scaler.inverse_transform(output.reshape(-1,1))\n",
    "plt.plot(x,y,label='forecast_value')\n",
    "###########################################################################\n",
    "# plt.xlim(0,1500)\n",
    "plt.legend()\n",
    "plt.show()"
   ]
  },
  {
   "cell_type": "code",
   "execution_count": null,
   "metadata": {},
   "outputs": [],
   "source": []
  }
 ],
 "metadata": {
  "kernelspec": {
   "display_name": "Python 3 (ipykernel)",
   "language": "python",
   "name": "python3"
  },
  "language_info": {
   "codemirror_mode": {
    "name": "ipython",
    "version": 3
   },
   "file_extension": ".py",
   "mimetype": "text/x-python",
   "name": "python",
   "nbconvert_exporter": "python",
   "pygments_lexer": "ipython3",
   "version": "3.8.10"
  }
 },
 "nbformat": 4,
 "nbformat_minor": 4
}
