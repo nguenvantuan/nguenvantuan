{
 "cells": [
  {
   "cell_type": "code",
   "execution_count": 15,
   "id": "1a92fb82-0f5c-4c2b-8b91-ac801c0ccaac",
   "metadata": {
    "tags": []
   },
   "outputs": [],
   "source": [
    "# The Illustrated Transformer \n",
    "# http://jalammar.github.io/illustrated-transformer/"
   ]
  },
  {
   "cell_type": "code",
   "execution_count": 16,
   "id": "2b395a66-a6f1-4fcc-8e65-cc147cde4868",
   "metadata": {},
   "outputs": [],
   "source": [
    "from keras.layers import LSTM, Dense, Input, Add, Concatenate\n",
    "from keras.layers import BatchNormalization\n",
    "from keras.models import Model\n",
    "import keras\n",
    "import tensorflow as tf\n",
    "import numpy as np"
   ]
  },
  {
   "cell_type": "code",
   "execution_count": 17,
   "id": "5cdbbaf7-41c6-41af-b15b-8e4026fb3e58",
   "metadata": {},
   "outputs": [],
   "source": [
    "N = 100\n",
    "num_encoder_tokens = 20\n",
    "num_decoder_tokens = 30\n",
    "max_encoder_seq_length = 128 # 512 in original paper\n",
    "max_decoder_seq_length = 128 # 512 in original paper\n",
    "latent_dim = 32 # 64 in original pape"
   ]
  },
  {
   "cell_type": "code",
   "execution_count": 18,
   "id": "32bf0d21-6be5-4237-9572-1ae16cf80e8e",
   "metadata": {},
   "outputs": [],
   "source": [
    "class SelfAttention(keras.layers.Layer):\n",
    "    def __init__(self, units):\n",
    "        super(SelfAttention,self).__init__()\n",
    "        self.units = units\n",
    "        self.Key = Dense(units = self.units, activation = 'relu')\n",
    "        self.Query = Dense(units = self.units, activation = 'relu')\n",
    "        self.Value = Dense(units = self.units, activation = 'relu')\n",
    "    def call(self, encoder_input):\n",
    "        K = self.Key(encoder_input) # Shape(N, num_encoder_tokens, latent_dim)\n",
    "        Q = self.Query(encoder_input) # Shape(N, num_encoder_tokens, latent_dim)\n",
    "        V = self.Value(encoder_input) # Shape(N, num_encoder_tokens, latent_dim)\n",
    "        x = tf.matmul(Q,K,transpose_b = True)/8 # sqrt(latent_dim) # Shape(N, num_encoder_tokens, num_encoder_tokens)\n",
    "        x = tf.nn.softmax(x,axis = 2) # Shape(N, num_encoder_tokens, num_encoder_tokens)\n",
    "        return tf.matmul(x,V) # Shape(N, num_encoder_tokens, latent_dim)"
   ]
  },
  {
   "cell_type": "code",
   "execution_count": 19,
   "id": "440475a2-cf3f-48ef-9966-2c75be9ca2dc",
   "metadata": {},
   "outputs": [],
   "source": [
    "class Encoder(keras.layers.Layer):\n",
    "    def __init__(self, latent_dim, max_encoder_seq_length):\n",
    "        super(Encoder,self).__init__()\n",
    "        self.latent_dim = latent_dim\n",
    "        self.max_encoder_seq_length = max_encoder_seq_length\n",
    "        self.selfattention_layer_1 = SelfAttention(self.latent_dim)\n",
    "        self.selfattention_layer_2 = SelfAttention(self.latent_dim)\n",
    "        self.cat = Concatenate(axis=2)\n",
    "        self.reduce_dim = Dense(units = self.latent_dim, activation = 'relu')\n",
    "        self.up_dim = Dense(units = self.max_encoder_seq_length, activation = 'relu')\n",
    "        self.add_norm_1 = BatchNormalization()\n",
    "        self.add_norm_2 = BatchNormalization()\n",
    "        self.add= Add()\n",
    "        self.feed_forward = Dense(units = self.max_encoder_seq_length, activation = 'relu')\n",
    "    def call(self, encoder_input):\n",
    "        selfattention_layer_1_output = self.selfattention_layer_1(encoder_input)\n",
    "        selfattention_layer_2_output = self.selfattention_layer_2(encoder_input)\n",
    "        x = self.cat([selfattention_layer_1_output,selfattention_layer_2_output])\n",
    "        x = self.reduce_dim(x)\n",
    "        x = self.up_dim(x)\n",
    "        add_norm_output = self.add_norm_1(self.add([encoder_input,x]),training=True)\n",
    "        x = self.feed_forward(add_norm_output)\n",
    "        return self.add_norm_2(self.add([add_norm_output,x]),training=True)"
   ]
  },
  {
   "cell_type": "code",
   "execution_count": 20,
   "id": "0460b1a9-32a0-4292-914c-bdeca9c93486",
   "metadata": {},
   "outputs": [],
   "source": [
    "class EncoderDecoderAttention(keras.layers.Layer):\n",
    "    def __init__(self, units, dim):\n",
    "        super(EncoderDecoderAttention,self).__init__()\n",
    "        self.units = units\n",
    "        self.dim = dim\n",
    "        self.Key = Dense(units = self.units, activation = 'relu')\n",
    "        self.Query = Dense(units = self.units, activation = 'relu')\n",
    "        self.Value = Dense(units = self.units, activation = 'relu')\n",
    "        self.up_dim_context = Dense(units = self.dim, activation = 'relu')\n",
    "    def call(self, encoder_output, decoder_input):\n",
    "        K = self.Key(encoder_output) # Shape(N, num_encoder_tokens, latent_dim)\n",
    "        Q = self.Query(decoder_input) # Shape(N, num_decoder_tokens, latent_dim)\n",
    "        V = self.Value(encoder_output) # Shape(N, num_encoder_tokens, latent_dim)\n",
    "        x = tf.matmul(Q,K,transpose_b = True)/8 # sqrt(latent_dim) # Shape(N, num_encoder_tokens, num_encoder_tokens)\n",
    "        x = tf.nn.softmax(x,axis = 2) # Shape(N, num_encoder_tokens, num_encoder_tokens)\n",
    "        x = tf.matmul(x,V) # Shape(N, num_encoder_tokens, latent_dim)\n",
    "        return self.up_dim_context(x)"
   ]
  },
  {
   "cell_type": "code",
   "execution_count": 21,
   "id": "29533a58-8e63-4a7b-a345-88ec47c23d9b",
   "metadata": {},
   "outputs": [],
   "source": [
    "class Decoder(keras.layers.Layer):\n",
    "    def __init__(self, latent_dim, max_decoder_seq_length):\n",
    "        super(Decoder,self).__init__()\n",
    "        self.latent_dim = latent_dim\n",
    "        self.max_decoder_seq_length = max_decoder_seq_length\n",
    "        self.selfattention_layer_1 = SelfAttention(self.latent_dim)\n",
    "        self.selfattention_layer_2 = SelfAttention(self.latent_dim)\n",
    "        self.cat = Concatenate(axis=2)\n",
    "        self.reduce_dim = Dense(units = self.latent_dim, activation = 'relu')\n",
    "        self.up_dim = Dense(units = self.max_decoder_seq_length, activation = 'relu')\n",
    "        self.add_norm_1 = BatchNormalization()\n",
    "        self.add_norm_2 = BatchNormalization()\n",
    "        self.add_norm_3 = BatchNormalization()\n",
    "        self.add= Add()\n",
    "        self.feed_forward = Dense(units = self.max_decoder_seq_length, activation = 'relu')\n",
    "        self.en_de_attention = EncoderDecoderAttention(self.latent_dim, self.max_decoder_seq_length)\n",
    "    def call(self, encoder_output, decoder_input):\n",
    "        selfattention_layer_1_output = self.selfattention_layer_1(decoder_input)\n",
    "        selfattention_layer_2_output = self.selfattention_layer_2(decoder_input)\n",
    "        x = self.cat([selfattention_layer_1_output,selfattention_layer_2_output])\n",
    "        x = self.reduce_dim(x)\n",
    "        x = self.up_dim(x)\n",
    "        add_norm_output_1 = self.add_norm_1(self.add([decoder_input,x]),training=True)\n",
    "        x = self.en_de_attention(encoder_output, add_norm_output_1)\n",
    "        add_norm_output_2 = self.add_norm_2(self.add([add_norm_output_1,x]),training=True)\n",
    "        x = self.feed_forward(add_norm_output_2)\n",
    "        return self.add_norm_3(self.add([add_norm_output_2,x]),training=True)"
   ]
  },
  {
   "cell_type": "code",
   "execution_count": 22,
   "id": "21a14016-5277-42b1-b326-9fb4a4ba718d",
   "metadata": {},
   "outputs": [],
   "source": [
    "# Encoder\n",
    "encoder_input = Input(shape=(None, max_encoder_seq_length))\n",
    "encoder_block_1 = Encoder(latent_dim, max_encoder_seq_length)\n",
    "x = encoder_block_1(encoder_input)\n",
    "encoder_block_2 = Encoder(latent_dim, max_encoder_seq_length)\n",
    "encoder_block_2_output = encoder_block_2(x)\n",
    "# Decoder\n",
    "decoder_input = Input(shape=(None, max_decoder_seq_length))\n",
    "decoder_block_1 = Decoder(latent_dim, max_decoder_seq_length)\n",
    "x = decoder_block_1(encoder_block_2_output, decoder_input)\n",
    "decoder_block_2 = Decoder(latent_dim, max_decoder_seq_length)\n",
    "x = decoder_block_2(encoder_block_2_output, x)\n",
    "# Linear - Softmax\n",
    "linear = Dense(units = latent_dim, activation = 'relu')\n",
    "x = linear(x)\n",
    "softmax = Dense(units = max_decoder_seq_length, activation = 'softmax')\n",
    "output= softmax(x)"
   ]
  },
  {
   "cell_type": "code",
   "execution_count": 23,
   "id": "4ceb07fc-8ba5-4f88-9557-ebe6cde8bf2c",
   "metadata": {},
   "outputs": [],
   "source": [
    "model = Model([encoder_input,decoder_input], output)"
   ]
  },
  {
   "cell_type": "code",
   "execution_count": 24,
   "id": "ce81cf25-2327-4269-9754-5baee7250f0d",
   "metadata": {},
   "outputs": [],
   "source": [
    "model.compile(optimizer = 'adam', loss = 'categorical_crossentropy', metrics = ['accuracy'])"
   ]
  },
  {
   "cell_type": "code",
   "execution_count": 25,
   "id": "66c63313-e47c-452a-b907-a372ddf246e9",
   "metadata": {},
   "outputs": [
    {
     "name": "stdout",
     "output_type": "stream",
     "text": [
      "Model: \"model_1\"\n",
      "__________________________________________________________________________________________________\n",
      " Layer (type)                   Output Shape         Param #     Connected to                     \n",
      "==================================================================================================\n",
      " input_3 (InputLayer)           [(None, None, 128)]  0           []                               \n",
      "                                                                                                  \n",
      " encoder_2 (Encoder)            (None, None, 128)    48608       ['input_3[0][0]']                \n",
      "                                                                                                  \n",
      " encoder_3 (Encoder)            (None, None, 128)    48608       ['encoder_2[0][0]']              \n",
      "                                                                                                  \n",
      " input_4 (InputLayer)           [(None, None, 128)]  0           []                               \n",
      "                                                                                                  \n",
      " decoder_2 (Decoder)            (None, None, 128)    65728       ['encoder_3[0][0]',              \n",
      "                                                                  'input_4[0][0]']                \n",
      "                                                                                                  \n",
      " decoder_3 (Decoder)            (None, None, 128)    65728       ['encoder_3[0][0]',              \n",
      "                                                                  'decoder_2[0][0]']              \n",
      "                                                                                                  \n",
      " dense_90 (Dense)               (None, None, 32)     4128        ['decoder_3[0][0]']              \n",
      "                                                                                                  \n",
      " dense_91 (Dense)               (None, None, 128)    4224        ['dense_90[0][0]']               \n",
      "                                                                                                  \n",
      "==================================================================================================\n",
      "Total params: 237,024\n",
      "Trainable params: 234,464\n",
      "Non-trainable params: 2,560\n",
      "__________________________________________________________________________________________________\n"
     ]
    }
   ],
   "source": [
    "model.summary()"
   ]
  },
  {
   "cell_type": "code",
   "execution_count": 26,
   "id": "368bd31d-f73e-4190-a458-219617a5f19e",
   "metadata": {},
   "outputs": [],
   "source": [
    "np.random.seed(0)\n",
    "input_encoder = np.random.randint(10,size = (N, num_encoder_tokens, max_encoder_seq_length))"
   ]
  },
  {
   "cell_type": "code",
   "execution_count": 27,
   "id": "60f93621-724d-4304-bf0d-17c169e36270",
   "metadata": {},
   "outputs": [],
   "source": [
    "np.random.seed(1)\n",
    "input_decoder = np.random.randint(10,size = (N, num_decoder_tokens, max_decoder_seq_length))"
   ]
  },
  {
   "cell_type": "code",
   "execution_count": 28,
   "id": "4c1afe32-1e66-4e94-b8d8-9724734021d0",
   "metadata": {},
   "outputs": [],
   "source": [
    "output_decoder = model([input_encoder,input_decoder])"
   ]
  },
  {
   "cell_type": "code",
   "execution_count": 29,
   "id": "eb4f7dc3-75b0-4a36-b6ca-5b050185dcda",
   "metadata": {},
   "outputs": [
    {
     "name": "stdout",
     "output_type": "stream",
     "text": [
      "Epoch 1/50\n",
      "10/10 [==============================] - 3s 24ms/step - loss: 4.7139 - accuracy: 0.7997\n",
      "Epoch 2/50\n",
      "10/10 [==============================] - 0s 19ms/step - loss: 4.7148 - accuracy: 0.7813\n",
      "Epoch 3/50\n",
      "10/10 [==============================] - 0s 19ms/step - loss: 4.7143 - accuracy: 0.7997\n",
      "Epoch 4/50\n",
      "10/10 [==============================] - 0s 19ms/step - loss: 4.7140 - accuracy: 0.8003\n",
      "Epoch 5/50\n",
      "10/10 [==============================] - 0s 17ms/step - loss: 4.7135 - accuracy: 0.8190\n",
      "Epoch 6/50\n",
      "10/10 [==============================] - 0s 18ms/step - loss: 4.7135 - accuracy: 0.8170\n",
      "Epoch 7/50\n",
      "10/10 [==============================] - 0s 20ms/step - loss: 4.7135 - accuracy: 0.8187\n",
      "Epoch 8/50\n",
      "10/10 [==============================] - 0s 18ms/step - loss: 4.7136 - accuracy: 0.8067\n",
      "Epoch 9/50\n",
      "10/10 [==============================] - 0s 23ms/step - loss: 4.7133 - accuracy: 0.8287\n",
      "Epoch 10/50\n",
      "10/10 [==============================] - 0s 20ms/step - loss: 4.7133 - accuracy: 0.8183\n",
      "Epoch 11/50\n",
      "10/10 [==============================] - 0s 21ms/step - loss: 4.7133 - accuracy: 0.8260\n",
      "Epoch 12/50\n",
      "10/10 [==============================] - 0s 19ms/step - loss: 4.7133 - accuracy: 0.8177\n",
      "Epoch 13/50\n",
      "10/10 [==============================] - 0s 18ms/step - loss: 4.7133 - accuracy: 0.8237\n",
      "Epoch 14/50\n",
      "10/10 [==============================] - 0s 20ms/step - loss: 4.7131 - accuracy: 0.8397\n",
      "Epoch 15/50\n",
      "10/10 [==============================] - 0s 19ms/step - loss: 4.7134 - accuracy: 0.8297\n",
      "Epoch 16/50\n",
      "10/10 [==============================] - 0s 18ms/step - loss: 4.7131 - accuracy: 0.8370\n",
      "Epoch 17/50\n",
      "10/10 [==============================] - 0s 18ms/step - loss: 4.7134 - accuracy: 0.8107\n",
      "Epoch 18/50\n",
      "10/10 [==============================] - 0s 17ms/step - loss: 4.7133 - accuracy: 0.8290\n",
      "Epoch 19/50\n",
      "10/10 [==============================] - 0s 18ms/step - loss: 4.7133 - accuracy: 0.8213\n",
      "Epoch 20/50\n",
      "10/10 [==============================] - 0s 23ms/step - loss: 4.7133 - accuracy: 0.8277\n",
      "Epoch 21/50\n",
      "10/10 [==============================] - 0s 17ms/step - loss: 4.7133 - accuracy: 0.8290\n",
      "Epoch 22/50\n",
      "10/10 [==============================] - 0s 21ms/step - loss: 4.7134 - accuracy: 0.8220\n",
      "Epoch 23/50\n",
      "10/10 [==============================] - 0s 23ms/step - loss: 4.7132 - accuracy: 0.8377\n",
      "Epoch 24/50\n",
      "10/10 [==============================] - 0s 18ms/step - loss: 4.7131 - accuracy: 0.8357\n",
      "Epoch 25/50\n",
      "10/10 [==============================] - 0s 20ms/step - loss: 4.7132 - accuracy: 0.8307\n",
      "Epoch 26/50\n",
      "10/10 [==============================] - 0s 19ms/step - loss: 4.7132 - accuracy: 0.8280\n",
      "Epoch 27/50\n",
      "10/10 [==============================] - 0s 20ms/step - loss: 4.7132 - accuracy: 0.8357\n",
      "Epoch 28/50\n",
      "10/10 [==============================] - 0s 22ms/step - loss: 4.7133 - accuracy: 0.8343\n",
      "Epoch 29/50\n",
      "10/10 [==============================] - 0s 17ms/step - loss: 4.7135 - accuracy: 0.8137\n",
      "Epoch 30/50\n",
      "10/10 [==============================] - 0s 20ms/step - loss: 4.7130 - accuracy: 0.8363\n",
      "Epoch 31/50\n",
      "10/10 [==============================] - 0s 19ms/step - loss: 4.7130 - accuracy: 0.8353\n",
      "Epoch 32/50\n",
      "10/10 [==============================] - 0s 18ms/step - loss: 4.7131 - accuracy: 0.8307\n",
      "Epoch 33/50\n",
      "10/10 [==============================] - 0s 19ms/step - loss: 4.7130 - accuracy: 0.8347\n",
      "Epoch 34/50\n",
      "10/10 [==============================] - 0s 24ms/step - loss: 4.7130 - accuracy: 0.8557\n",
      "Epoch 35/50\n",
      "10/10 [==============================] - 0s 20ms/step - loss: 4.7131 - accuracy: 0.8380\n",
      "Epoch 36/50\n",
      "10/10 [==============================] - 0s 20ms/step - loss: 4.7132 - accuracy: 0.8230\n",
      "Epoch 37/50\n",
      "10/10 [==============================] - 0s 22ms/step - loss: 4.7133 - accuracy: 0.8207\n",
      "Epoch 38/50\n",
      "10/10 [==============================] - 0s 22ms/step - loss: 4.7131 - accuracy: 0.8287\n",
      "Epoch 39/50\n",
      "10/10 [==============================] - 0s 22ms/step - loss: 4.7132 - accuracy: 0.8307\n",
      "Epoch 40/50\n",
      "10/10 [==============================] - 0s 21ms/step - loss: 4.7131 - accuracy: 0.8320\n",
      "Epoch 41/50\n",
      "10/10 [==============================] - 0s 20ms/step - loss: 4.7131 - accuracy: 0.8413\n",
      "Epoch 42/50\n",
      "10/10 [==============================] - 0s 19ms/step - loss: 4.7130 - accuracy: 0.8400\n",
      "Epoch 43/50\n",
      "10/10 [==============================] - 0s 21ms/step - loss: 4.7130 - accuracy: 0.8423\n",
      "Epoch 44/50\n",
      "10/10 [==============================] - 0s 20ms/step - loss: 4.7130 - accuracy: 0.8463\n",
      "Epoch 45/50\n",
      "10/10 [==============================] - 0s 18ms/step - loss: 4.7130 - accuracy: 0.8363\n",
      "Epoch 46/50\n",
      "10/10 [==============================] - 0s 21ms/step - loss: 4.7130 - accuracy: 0.8513\n",
      "Epoch 47/50\n",
      "10/10 [==============================] - 0s 25ms/step - loss: 4.7129 - accuracy: 0.8423\n",
      "Epoch 48/50\n",
      "10/10 [==============================] - 0s 19ms/step - loss: 4.7129 - accuracy: 0.8403\n",
      "Epoch 49/50\n",
      "10/10 [==============================] - 0s 25ms/step - loss: 4.7130 - accuracy: 0.8483\n",
      "Epoch 50/50\n",
      "10/10 [==============================] - 0s 18ms/step - loss: 4.7128 - accuracy: 0.8497\n",
      "<keras.callbacks.History object at 0x000002C83F6D1940>\n"
     ]
    }
   ],
   "source": [
    "print(model.fit([input_encoder, input_decoder],output_decoder,batch_size = 10, epochs = 50))"
   ]
  },
  {
   "cell_type": "code",
   "execution_count": null,
   "id": "65ab989c-2a7a-4d7a-b604-41e4b32ead3b",
   "metadata": {},
   "outputs": [],
   "source": []
  }
 ],
 "metadata": {
  "kernelspec": {
   "display_name": "Python 3 (ipykernel)",
   "language": "python",
   "name": "python3"
  },
  "language_info": {
   "codemirror_mode": {
    "name": "ipython",
    "version": 3
   },
   "file_extension": ".py",
   "mimetype": "text/x-python",
   "name": "python",
   "nbconvert_exporter": "python",
   "pygments_lexer": "ipython3",
   "version": "3.8.10"
  }
 },
 "nbformat": 4,
 "nbformat_minor": 5
}
