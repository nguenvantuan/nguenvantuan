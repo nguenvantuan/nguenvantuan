{
 "cells": [
  {
   "cell_type": "markdown",
   "id": "39c24bd6-5eb6-4811-9ff5-40bcde9476f0",
   "metadata": {},
   "source": [
    "##### Ý tưởng của KeyBert: tác giả sử dụng CounterVectorizer để generate các candidate words, sau đó sử dụng BERT để tạo các representative vector cho từng câu và các đoạn text. Cuối cùng trích xuất ra các từ có representative vector giống với text nhất. Sau đó từ những từ đó lấy ra những từ có nghĩa khác nhau nhất để loại bỏ các từ có nghĩa trùng lặp."
   ]
  },
  {
   "cell_type": "code",
   "execution_count": 6,
   "id": "5412ce87-40a6-4f82-b3fc-ae058722cbd1",
   "metadata": {},
   "outputs": [],
   "source": [
    "from keybert import KeyBERT"
   ]
  },
  {
   "cell_type": "code",
   "execution_count": 11,
   "id": "4dd45474-5ce6-4c90-aee8-7ddf18d565ac",
   "metadata": {},
   "outputs": [],
   "source": [
    "doc = \"\"\"\n",
    "         Supervised learning is the machine learning task of learning a function that\n",
    "         maps an input to an output based on example input-output pairs. It infers a\n",
    "         function from labeled training data consisting of a set of training examples.\n",
    "         In supervised learning, each example is a pair consisting of an input object\n",
    "         (typically a vector) and a desired output value (also called the supervisory signal).\n",
    "         A supervised learning algorithm analyzes the training data and produces an inferred function,\n",
    "         which can be used for mapping new examples. An optimal scenario will allow for the\n",
    "         algorithm to correctly determine the class labels for unseen instances. This requires\n",
    "         the learning algorithm to generalize from the training data to unseen situations in a\n",
    "         'reasonable' way (see inductive bias).\n",
    "      \"\"\"\n",
    "kw_model = KeyBERT()"
   ]
  },
  {
   "cell_type": "code",
   "execution_count": 16,
   "id": "a9a23867-882a-43b2-a995-166ee5ba2e3d",
   "metadata": {},
   "outputs": [
    {
     "data": {
      "text/html": [
       "<pre style=\"white-space:pre;overflow-x:auto;line-height:normal;font-family:Menlo,'DejaVu Sans Mono',consolas,'Courier New',monospace\"><span style=\"color: #000000; text-decoration-color: #000000; background-color: #ffff00\">Supervised</span> <span style=\"color: #000000; text-decoration-color: #000000; background-color: #ffff00\">learning</span> is the machine <span style=\"color: #000000; text-decoration-color: #000000; background-color: #ffff00\">learning</span> task of <span style=\"color: #000000; text-decoration-color: #000000; background-color: #ffff00\">learning</span> a function that maps an input to\n",
       "an output based on example input-output pairs. It infers a function from <span style=\"color: #000000; text-decoration-color: #000000; background-color: #ffff00\">labeled</span> <span style=\"color: #000000; text-decoration-color: #000000; background-color: #ffff00\">training</span> \n",
       "<span style=\"color: #000000; text-decoration-color: #000000; background-color: #ffff00\">data</span> consisting of a set of <span style=\"color: #000000; text-decoration-color: #000000; background-color: #ffff00\">training</span> examples. In <span style=\"color: #000000; text-decoration-color: #000000; background-color: #ffff00\">supervised</span> learning, each example is a pair\n",
       "consisting of an input <span style=\"color: #000000; text-decoration-color: #000000; background-color: #ffff00\">object</span> (typically a vector) and a desired output value (also called \n",
       "the <span style=\"color: #000000; text-decoration-color: #000000; background-color: #ffff00\">supervisory</span> signal). A <span style=\"color: #000000; text-decoration-color: #000000; background-color: #ffff00\">supervised</span> <span style=\"color: #000000; text-decoration-color: #000000; background-color: #ffff00\">learning</span> <span style=\"color: #000000; text-decoration-color: #000000; background-color: #ffff00\">algorithm</span> analyzes the <span style=\"color: #000000; text-decoration-color: #000000; background-color: #ffff00\">training</span> <span style=\"color: #000000; text-decoration-color: #000000; background-color: #ffff00\">data</span> and \n",
       "produces an inferred function, which can be used for mapping new examples. An optimal \n",
       "scenario will allow for the <span style=\"color: #000000; text-decoration-color: #000000; background-color: #ffff00\">algorithm</span> to correctly determine the <span style=\"color: #000000; text-decoration-color: #000000; background-color: #ffff00\">class</span> <span style=\"color: #000000; text-decoration-color: #000000; background-color: #ffff00\">labels</span> for unseen \n",
       "instances. This requires the <span style=\"color: #000000; text-decoration-color: #000000; background-color: #ffff00\">learning</span> <span style=\"color: #000000; text-decoration-color: #000000; background-color: #ffff00\">algorithm</span> to generalize from the <span style=\"color: #000000; text-decoration-color: #000000; background-color: #ffff00\">training</span> <span style=\"color: #000000; text-decoration-color: #000000; background-color: #ffff00\">data</span> to \n",
       "unseen situations in a 'reasonable' way (see inductive bias).\n",
       "</pre>\n"
      ],
      "text/plain": [
       "\u001b[30;48;2;255;255;0mSupervised\u001b[0m \u001b[30;48;2;255;255;0mlearning\u001b[0m is the machine \u001b[30;48;2;255;255;0mlearning\u001b[0m task of \u001b[30;48;2;255;255;0mlearning\u001b[0m a function that maps an input to\n",
       "an output based on example input-output pairs. It infers a function from \u001b[30;48;2;255;255;0mlabeled\u001b[0m \u001b[30;48;2;255;255;0mtraining\u001b[0m \n",
       "\u001b[30;48;2;255;255;0mdata\u001b[0m consisting of a set of \u001b[30;48;2;255;255;0mtraining\u001b[0m examples. In \u001b[30;48;2;255;255;0msupervised\u001b[0m learning, each example is a pair\n",
       "consisting of an input \u001b[30;48;2;255;255;0mobject\u001b[0m (typically a vector) and a desired output value (also called \n",
       "the \u001b[30;48;2;255;255;0msupervisory\u001b[0m signal). A \u001b[30;48;2;255;255;0msupervised\u001b[0m \u001b[30;48;2;255;255;0mlearning\u001b[0m \u001b[30;48;2;255;255;0malgorithm\u001b[0m analyzes the \u001b[30;48;2;255;255;0mtraining\u001b[0m \u001b[30;48;2;255;255;0mdata\u001b[0m and \n",
       "produces an inferred function, which can be used for mapping new examples. An optimal \n",
       "scenario will allow for the \u001b[30;48;2;255;255;0malgorithm\u001b[0m to correctly determine the \u001b[30;48;2;255;255;0mclass\u001b[0m \u001b[30;48;2;255;255;0mlabels\u001b[0m for unseen \n",
       "instances. This requires the \u001b[30;48;2;255;255;0mlearning\u001b[0m \u001b[30;48;2;255;255;0malgorithm\u001b[0m to generalize from the \u001b[30;48;2;255;255;0mtraining\u001b[0m \u001b[30;48;2;255;255;0mdata\u001b[0m to \n",
       "unseen situations in a 'reasonable' way (see inductive bias).\n"
      ]
     },
     "metadata": {},
     "output_type": "display_data"
    },
    {
     "data": {
      "text/plain": [
       "[('supervised', 0.6676),\n",
       " ('labeled', 0.4896),\n",
       " ('learning', 0.4813),\n",
       " ('training', 0.4134),\n",
       " ('labels', 0.3947),\n",
       " ('supervisory', 0.3297),\n",
       " ('data', 0.3136),\n",
       " ('algorithm', 0.298),\n",
       " ('class', 0.296),\n",
       " ('object', 0.2789)]"
      ]
     },
     "execution_count": 16,
     "metadata": {},
     "output_type": "execute_result"
    }
   ],
   "source": [
    "kw_model.extract_keywords(doc, keyphrase_ngram_range=(1, 1), highlight=True, top_n=10)"
   ]
  },
  {
   "cell_type": "code",
   "execution_count": 17,
   "id": "e0912150-0bd3-41e9-acb7-ca5cd5bceb6c",
   "metadata": {},
   "outputs": [
    {
     "data": {
      "text/html": [
       "<pre style=\"white-space:pre;overflow-x:auto;line-height:normal;font-family:Menlo,'DejaVu Sans Mono',consolas,'Courier New',monospace\"><span style=\"color: #000000; text-decoration-color: #000000; background-color: #ffff00\">Supervised learning</span> the <span style=\"color: #000000; text-decoration-color: #000000; background-color: #ffff00\">machine learning</span> of learning a function that maps an input to an \n",
       "output based on example input-output pairs. It infers a function from <span style=\"color: #000000; text-decoration-color: #000000; background-color: #ffff00\">labeled training</span> \n",
       "consisting of a set of training examples. In <span style=\"color: #000000; text-decoration-color: #000000; background-color: #ffff00\">supervised</span> learning, each example is a pair \n",
       "consisting of an input object (typically a vector) and a desired output value (also called \n",
       "the supervisory signal). A <span style=\"color: #000000; text-decoration-color: #000000; background-color: #ffff00\">supervised learning</span> analyzes the <span style=\"color: #000000; text-decoration-color: #000000; background-color: #ffff00\">training data</span> produces an \n",
       "inferred function, which can be used for mapping new examples. An optimal scenario will allow\n",
       "for the algorithm to correctly determine the class labels for unseen instances. This requires\n",
       "the <span style=\"color: #000000; text-decoration-color: #000000; background-color: #ffff00\">learning algorithm</span> generalize from the <span style=\"color: #000000; text-decoration-color: #000000; background-color: #ffff00\">training data</span> unseen situations in a 'reasonable' \n",
       "way (see inductive bias).\n",
       "</pre>\n"
      ],
      "text/plain": [
       "\u001b[30;48;2;255;255;0mSupervised learning\u001b[0m the \u001b[30;48;2;255;255;0mmachine learning\u001b[0m of learning a function that maps an input to an \n",
       "output based on example input-output pairs. It infers a function from \u001b[30;48;2;255;255;0mlabeled training\u001b[0m \n",
       "consisting of a set of training examples. In \u001b[30;48;2;255;255;0msupervised\u001b[0m learning, each example is a pair \n",
       "consisting of an input object (typically a vector) and a desired output value (also called \n",
       "the supervisory signal). A \u001b[30;48;2;255;255;0msupervised learning\u001b[0m analyzes the \u001b[30;48;2;255;255;0mtraining data\u001b[0m produces an \n",
       "inferred function, which can be used for mapping new examples. An optimal scenario will allow\n",
       "for the algorithm to correctly determine the class labels for unseen instances. This requires\n",
       "the \u001b[30;48;2;255;255;0mlearning algorithm\u001b[0m generalize from the \u001b[30;48;2;255;255;0mtraining data\u001b[0m unseen situations in a 'reasonable' \n",
       "way (see inductive bias).\n"
      ]
     },
     "metadata": {},
     "output_type": "display_data"
    },
    {
     "data": {
      "text/plain": [
       "[('supervised learning', 0.6779),\n",
       " ('supervised', 0.6676),\n",
       " ('signal supervised', 0.6152),\n",
       " ('examples supervised', 0.6112),\n",
       " ('labeled training', 0.6013),\n",
       " ('learning function', 0.5755),\n",
       " ('learning algorithm', 0.5632),\n",
       " ('learning machine', 0.5598),\n",
       " ('machine learning', 0.5555),\n",
       " ('training data', 0.5271)]"
      ]
     },
     "execution_count": 17,
     "metadata": {},
     "output_type": "execute_result"
    }
   ],
   "source": [
    "kw_model.extract_keywords(doc, keyphrase_ngram_range=(1, 2), highlight=True, top_n=10)"
   ]
  },
  {
   "cell_type": "code",
   "execution_count": null,
   "id": "cf253d89-3cf6-4853-9e94-bc546e4ab368",
   "metadata": {},
   "outputs": [],
   "source": []
  }
 ],
 "metadata": {
  "kernelspec": {
   "display_name": "Python 3 (ipykernel)",
   "language": "python",
   "name": "python3"
  },
  "language_info": {
   "codemirror_mode": {
    "name": "ipython",
    "version": 3
   },
   "file_extension": ".py",
   "mimetype": "text/x-python",
   "name": "python",
   "nbconvert_exporter": "python",
   "pygments_lexer": "ipython3",
   "version": "3.8.10"
  }
 },
 "nbformat": 4,
 "nbformat_minor": 5
}
